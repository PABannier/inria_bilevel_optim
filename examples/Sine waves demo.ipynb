{
 "cells": [
  {
   "cell_type": "code",
   "execution_count": 1,
   "id": "novel-joint",
   "metadata": {
    "scrolled": true
   },
   "outputs": [
    {
     "name": "stdout",
     "output_type": "stream",
     "text": [
      "Processing /Users/pierre-antoine/Desktop/inria_bilevel_optim/mtl_code\n",
      "Requirement already satisfied: libsvmdata in /Users/pierre-antoine/Applications/anaconda3/lib/python3.7/site-packages (from mtl==0.0.0) (0.1)\n",
      "Requirement already satisfied: numpy>=1.12 in /Users/pierre-antoine/Applications/anaconda3/lib/python3.7/site-packages (from mtl==0.0.0) (1.17.2)\n",
      "Requirement already satisfied: numba in /Users/pierre-antoine/Applications/anaconda3/lib/python3.7/site-packages (from mtl==0.0.0) (0.45.1)\n",
      "Requirement already satisfied: seaborn>=0.7 in /Users/pierre-antoine/Applications/anaconda3/lib/python3.7/site-packages (from mtl==0.0.0) (0.11.0)\n",
      "Requirement already satisfied: joblib in /Users/pierre-antoine/Applications/anaconda3/lib/python3.7/site-packages (from mtl==0.0.0) (0.13.2)\n",
      "Requirement already satisfied: scipy>=0.18.0 in /Users/pierre-antoine/Applications/anaconda3/lib/python3.7/site-packages (from mtl==0.0.0) (1.3.1)\n",
      "Requirement already satisfied: matplotlib>=2.0.0 in /Users/pierre-antoine/Applications/anaconda3/lib/python3.7/site-packages (from mtl==0.0.0) (3.3.2)\n",
      "Requirement already satisfied: scikit-learn>=0.23 in /Users/pierre-antoine/Applications/anaconda3/lib/python3.7/site-packages (from mtl==0.0.0) (0.24.1)\n",
      "Requirement already satisfied: pandas in /Users/pierre-antoine/Applications/anaconda3/lib/python3.7/site-packages (from mtl==0.0.0) (0.25.1)\n",
      "Requirement already satisfied: ipython in /Users/pierre-antoine/Applications/anaconda3/lib/python3.7/site-packages (from mtl==0.0.0) (7.8.0)\n",
      "Requirement already satisfied: download in /Users/pierre-antoine/Applications/anaconda3/lib/python3.7/site-packages (from libsvmdata->mtl==0.0.0) (0.3.5)\n",
      "Requirement already satisfied: llvmlite>=0.29.0dev0 in /Users/pierre-antoine/Applications/anaconda3/lib/python3.7/site-packages (from numba->mtl==0.0.0) (0.29.0)\n",
      "Requirement already satisfied: pillow>=6.2.0 in /Users/pierre-antoine/Applications/anaconda3/lib/python3.7/site-packages (from matplotlib>=2.0.0->mtl==0.0.0) (6.2.0)\n",
      "Requirement already satisfied: python-dateutil>=2.1 in /Users/pierre-antoine/Applications/anaconda3/lib/python3.7/site-packages (from matplotlib>=2.0.0->mtl==0.0.0) (2.8.0)\n",
      "Requirement already satisfied: certifi>=2020.06.20 in /Users/pierre-antoine/Applications/anaconda3/lib/python3.7/site-packages (from matplotlib>=2.0.0->mtl==0.0.0) (2020.6.20)\n",
      "Requirement already satisfied: cycler>=0.10 in /Users/pierre-antoine/Applications/anaconda3/lib/python3.7/site-packages (from matplotlib>=2.0.0->mtl==0.0.0) (0.10.0)\n",
      "Requirement already satisfied: kiwisolver>=1.0.1 in /Users/pierre-antoine/Applications/anaconda3/lib/python3.7/site-packages (from matplotlib>=2.0.0->mtl==0.0.0) (1.1.0)\n",
      "Requirement already satisfied: pyparsing!=2.0.4,!=2.1.2,!=2.1.6,>=2.0.3 in /Users/pierre-antoine/Applications/anaconda3/lib/python3.7/site-packages (from matplotlib>=2.0.0->mtl==0.0.0) (2.4.2)\n",
      "Requirement already satisfied: threadpoolctl>=2.0.0 in /Users/pierre-antoine/Applications/anaconda3/lib/python3.7/site-packages (from scikit-learn>=0.23->mtl==0.0.0) (2.1.0)\n",
      "Requirement already satisfied: pytz>=2017.2 in /Users/pierre-antoine/Applications/anaconda3/lib/python3.7/site-packages (from pandas->mtl==0.0.0) (2019.3)\n",
      "Requirement already satisfied: backcall in /Users/pierre-antoine/Applications/anaconda3/lib/python3.7/site-packages (from ipython->mtl==0.0.0) (0.1.0)\n",
      "Requirement already satisfied: appnope; sys_platform == \"darwin\" in /Users/pierre-antoine/Applications/anaconda3/lib/python3.7/site-packages (from ipython->mtl==0.0.0) (0.1.0)\n",
      "Requirement already satisfied: pygments in /Users/pierre-antoine/Applications/anaconda3/lib/python3.7/site-packages (from ipython->mtl==0.0.0) (2.4.2)\n",
      "Requirement already satisfied: traitlets>=4.2 in /Users/pierre-antoine/Applications/anaconda3/lib/python3.7/site-packages (from ipython->mtl==0.0.0) (4.3.3)\n",
      "Requirement already satisfied: pickleshare in /Users/pierre-antoine/Applications/anaconda3/lib/python3.7/site-packages (from ipython->mtl==0.0.0) (0.7.5)\n",
      "Requirement already satisfied: pexpect; sys_platform != \"win32\" in /Users/pierre-antoine/Applications/anaconda3/lib/python3.7/site-packages (from ipython->mtl==0.0.0) (4.7.0)\n",
      "Requirement already satisfied: decorator in /Users/pierre-antoine/Applications/anaconda3/lib/python3.7/site-packages (from ipython->mtl==0.0.0) (4.4.0)\n",
      "Requirement already satisfied: prompt-toolkit<2.1.0,>=2.0.0 in /Users/pierre-antoine/Applications/anaconda3/lib/python3.7/site-packages (from ipython->mtl==0.0.0) (2.0.10)\n",
      "Requirement already satisfied: setuptools>=18.5 in /Users/pierre-antoine/Applications/anaconda3/lib/python3.7/site-packages (from ipython->mtl==0.0.0) (41.4.0)\n",
      "Requirement already satisfied: jedi>=0.10 in /Users/pierre-antoine/Applications/anaconda3/lib/python3.7/site-packages (from ipython->mtl==0.0.0) (0.15.1)\n",
      "Requirement already satisfied: six in /Users/pierre-antoine/Applications/anaconda3/lib/python3.7/site-packages (from download->libsvmdata->mtl==0.0.0) (1.12.0)\n",
      "Requirement already satisfied: requests in /Users/pierre-antoine/Applications/anaconda3/lib/python3.7/site-packages (from download->libsvmdata->mtl==0.0.0) (2.22.0)\n",
      "Requirement already satisfied: tqdm in /Users/pierre-antoine/Applications/anaconda3/lib/python3.7/site-packages (from download->libsvmdata->mtl==0.0.0) (4.36.1)\n",
      "Requirement already satisfied: ipython-genutils in /Users/pierre-antoine/Applications/anaconda3/lib/python3.7/site-packages (from traitlets>=4.2->ipython->mtl==0.0.0) (0.2.0)\n",
      "Requirement already satisfied: ptyprocess>=0.5 in /Users/pierre-antoine/Applications/anaconda3/lib/python3.7/site-packages (from pexpect; sys_platform != \"win32\"->ipython->mtl==0.0.0) (0.6.0)\n",
      "Requirement already satisfied: wcwidth in /Users/pierre-antoine/Applications/anaconda3/lib/python3.7/site-packages (from prompt-toolkit<2.1.0,>=2.0.0->ipython->mtl==0.0.0) (0.1.7)\n",
      "Requirement already satisfied: parso>=0.5.0 in /Users/pierre-antoine/Applications/anaconda3/lib/python3.7/site-packages (from jedi>=0.10->ipython->mtl==0.0.0) (0.5.1)\n",
      "Requirement already satisfied: chardet<3.1.0,>=3.0.2 in /Users/pierre-antoine/Applications/anaconda3/lib/python3.7/site-packages (from requests->download->libsvmdata->mtl==0.0.0) (3.0.4)\n",
      "Requirement already satisfied: idna<2.9,>=2.5 in /Users/pierre-antoine/Applications/anaconda3/lib/python3.7/site-packages (from requests->download->libsvmdata->mtl==0.0.0) (2.8)\n",
      "Requirement already satisfied: urllib3!=1.25.0,!=1.25.1,<1.26,>=1.21.1 in /Users/pierre-antoine/Applications/anaconda3/lib/python3.7/site-packages (from requests->download->libsvmdata->mtl==0.0.0) (1.24.2)\n",
      "Building wheels for collected packages: mtl\n",
      "  Building wheel for mtl (setup.py) ... \u001b[?25ldone\n",
      "\u001b[?25h  Created wheel for mtl: filename=mtl-0.0.0-cp37-none-any.whl size=5359 sha256=9bc6667137b9a0ad5bfa9340c38114c183d67e3ac6192a192d045aa4bf12eca8\n",
      "  Stored in directory: /private/var/folders/88/1nv03x2s1mv2xlv78myb8nnc0000gn/T/pip-ephem-wheel-cache-ju210w9b/wheels/47/64/79/3da8c850f6210d2d028b32e5bf63ff67613b14e3c2a7444888\n",
      "Successfully built mtl\n",
      "Installing collected packages: mtl\n",
      "  Found existing installation: mtl 0.0.0\n",
      "    Uninstalling mtl-0.0.0:\n",
      "      Successfully uninstalled mtl-0.0.0\n",
      "Successfully installed mtl-0.0.0\n"
     ]
    }
   ],
   "source": [
    "!pip install ../mtl_code"
   ]
  },
  {
   "cell_type": "code",
   "execution_count": 13,
   "id": "joined-guarantee",
   "metadata": {},
   "outputs": [],
   "source": [
    "from mtl.simulated_data import simulate_data\n",
    "from mtl.mtl import ReweightedMTL\n",
    "from mtl.cross_validation import MultiTaskLassoCV\n",
    "\n",
    "import numpy as np\n",
    "from numpy.linalg import norm\n",
    "\n",
    "from sklearn.utils import check_random_state\n",
    "\n",
    "import matplotlib.pyplot as plt\n",
    "import seaborn as sns"
   ]
  },
  {
   "cell_type": "markdown",
   "id": "nearby-tampa",
   "metadata": {},
   "source": [
    "## Generate and visualize data"
   ]
  },
  {
   "cell_type": "code",
   "execution_count": 14,
   "id": "handled-serial",
   "metadata": {},
   "outputs": [],
   "source": [
    "rng = check_random_state(0)\n",
    "\n",
    "n_samples, n_features, n_tasks = 10, 50, 5\n",
    "n_relevant_features = 5\n",
    "\n",
    "support = rng.choice(n_features, n_relevant_features, replace=False)\n",
    "\n",
    "coef = np.zeros((n_features, n_tasks))\n",
    "times = np.linspace(0, 2 * np.pi, n_tasks)\n",
    "\n",
    "for k in support:\n",
    "    coef[k, :] = np.sin((1.0 + rng.randn(1)) * times + 3 * rng.randn(1))\n",
    "\n",
    "X = rng.randn(n_samples, n_features)\n",
    "Y = X @ coef + rng.randn(n_samples, n_tasks)\n",
    "Y /= norm(Y, ord=\"fro\")"
   ]
  },
  {
   "cell_type": "code",
   "execution_count": 23,
   "id": "accepted-investigator",
   "metadata": {},
   "outputs": [
    {
     "data": {
      "image/png": "[encoded data removed]",
      "text/plain": [
       "<Figure size 360x576 with 1 Axes>"
      ]
     },
     "metadata": {
      "needs_background": "light"
     },
     "output_type": "display_data"
    }
   ],
   "source": [
    "fig = plt.figure(figsize=(5, 8))\n",
    "plt.title('A row-sparse matrix', fontweight=\"bold\", fontsize=15)\n",
    "plt.imshow(coef, cmap=\"binary\");"
   ]
  },
  {
   "cell_type": "code",
   "execution_count": 28,
   "id": "fatty-affect",
   "metadata": {},
   "outputs": [],
   "source": [
    "def compute_alpha_max(X, Y):\n",
    "    return np.max(X.T @ Y) / X.shape[0]"
   ]
  },
  {
   "cell_type": "code",
   "execution_count": 30,
   "id": "legislative-creation",
   "metadata": {},
   "outputs": [
    {
     "name": "stdout",
     "output_type": "stream",
     "text": [
      "Alpha max: 0.13455589089767123\n"
     ]
    }
   ],
   "source": [
    "alpha_max = compute_alpha_max(X, Y)\n",
    "print('Alpha max:', lambda_max)"
   ]
  },
  {
   "cell_type": "code",
   "execution_count": 31,
   "id": "close-connection",
   "metadata": {},
   "outputs": [
    {
     "name": "stdout",
     "output_type": "stream",
     "text": [
      "Iteration 0: 0.1403\n",
      "Iteration 1: 0.0634\n",
      "Iteration 2: 0.0500\n",
      "Iteration 3: 0.0500\n",
      "Iteration 4: 0.0500\n"
     ]
    }
   ],
   "source": [
    "regressor = ReweightedMTL()\n",
    "regressor.fit(X, Y)"
   ]
  },
  {
   "cell_type": "code",
   "execution_count": 32,
   "id": "senior-wilson",
   "metadata": {},
   "outputs": [
    {
     "data": {
      "image/png": "[encoded data removed]",
      "text/plain": [
       "<Figure size 864x432 with 2 Axes>"
      ]
     },
     "metadata": {
      "needs_background": "light"
     },
     "output_type": "display_data"
    }
   ],
   "source": [
    "coef_hat = regressor.weights\n",
    "\n",
    "fig, axes = plt.subplots(1, 2, figsize=(12, 6))\n",
    "\n",
    "axes[0].set_title('Original signal', fontweight=\"bold\", fontsize=15)\n",
    "axes[0].imshow(coef, cmap=\"binary\")\n",
    "\n",
    "axes[1].set_title('Recovered signal', fontweight=\"bold\", fontsize=15)\n",
    "axes[1].imshow(coef_hat, cmap=\"binary\")\n",
    "\n",
    "fig.suptitle('A first attempt for Reweighted Multi-Task LASSO minimization', fontweight=\"bold\", fontsize=18);"
   ]
  },
  {
   "cell_type": "markdown",
   "id": "binary-battlefield",
   "metadata": {},
   "source": [
    "This is an expected result as the default $\\alpha$ is very close to $\\alpha_{\\text{max}}$. All coefficients are zeroed-out."
   ]
  },
  {
   "cell_type": "markdown",
   "id": "bearing-coalition",
   "metadata": {},
   "source": [
    "## Cross-validation"
   ]
  },
  {
   "cell_type": "code",
   "execution_count": 34,
   "id": "adjacent-occasion",
   "metadata": {},
   "outputs": [],
   "source": [
    "alphas = [0.001, 0.003, 0.005, 0.007, 0.009,\n",
    "          0.01, 0.03, 0.05, 0.07, 0.09,\n",
    "          0.1, 0.3, 0.5, 0.7, 0.9]"
   ]
  },
  {
   "cell_type": "code",
   "execution_count": 35,
   "id": "negative-academy",
   "metadata": {},
   "outputs": [],
   "source": [
    "regressor = MultiTaskLassoCV(alphas, n_folds=5)"
   ]
  },
  {
   "cell_type": "code",
   "execution_count": 36,
   "id": "civil-hearing",
   "metadata": {},
   "outputs": [
    {
     "name": "stdout",
     "output_type": "stream",
     "text": [
      "Fitting MTL estimator with alpha = 0.001\n",
      "Criterion reduced from inf to 0.02433 for alpha = 0.001\n",
      "Fitting MTL estimator with alpha = 0.003\n"
     ]
    },
    {
     "name": "stderr",
     "output_type": "stream",
     "text": [
      "/Users/pierre-antoine/Applications/anaconda3/lib/python3.7/site-packages/sklearn/linear_model/_coordinate_descent.py:1953: ConvergenceWarning: Objective did not converge. You might want to increase the number of iterations. Duality gap: 0.0001934284160738801, tolerance: 6.187222450004626e-05\n",
      "  check_random_state(self.random_state), random)\n"
     ]
    },
    {
     "name": "stdout",
     "output_type": "stream",
     "text": [
      "Criterion reduced from 0.02433 to 0.01910 for alpha = 0.003\n",
      "Fitting MTL estimator with alpha = 0.005\n",
      "Fitting MTL estimator with alpha = 0.007\n",
      "Fitting MTL estimator with alpha = 0.009\n",
      "Criterion reduced from 0.01910 to 0.01841 for alpha = 0.009\n",
      "Fitting MTL estimator with alpha = 0.01\n",
      "Criterion reduced from 0.01841 to 0.01767 for alpha = 0.01\n",
      "Fitting MTL estimator with alpha = 0.03\n",
      "Fitting MTL estimator with alpha = 0.05\n",
      "Fitting MTL estimator with alpha = 0.07\n",
      "Fitting MTL estimator with alpha = 0.09\n",
      "Fitting MTL estimator with alpha = 0.1\n",
      "Fitting MTL estimator with alpha = 0.3\n",
      "Fitting MTL estimator with alpha = 0.5\n",
      "Fitting MTL estimator with alpha = 0.7\n",
      "Fitting MTL estimator with alpha = 0.9\n",
      "\n",
      "\n",
      "Best criterion: 0.017671202767571774\n",
      "Best alpha: 0.01\n"
     ]
    }
   ],
   "source": [
    "regressor.fit(X, Y)"
   ]
  },
  {
   "cell_type": "code",
   "execution_count": 37,
   "id": "promising-clear",
   "metadata": {},
   "outputs": [
    {
     "data": {
      "image/png": "[encoded data removed]",
      "text/plain": [
       "<Figure size 864x432 with 2 Axes>"
      ]
     },
     "metadata": {
      "needs_background": "light"
     },
     "output_type": "display_data"
    }
   ],
   "source": [
    "coef_hat = regressor.weights\n",
    "\n",
    "fig, axes = plt.subplots(1, 2, figsize=(12, 6))\n",
    "\n",
    "axes[0].set_title('Original signal', fontweight=\"bold\", fontsize=15)\n",
    "axes[0].imshow(coef, cmap=\"binary\")\n",
    "\n",
    "axes[1].set_title('Recovered signal', fontweight=\"bold\", fontsize=15)\n",
    "axes[1].imshow(coef_hat, cmap=\"binary\")\n",
    "\n",
    "fig.suptitle('A cross-validated attempt...', fontweight=\"bold\", fontsize=18);"
   ]
  },
  {
   "cell_type": "code",
   "execution_count": 46,
   "id": "studied-heather",
   "metadata": {
    "scrolled": false
   },
   "outputs": [
    {
     "data": {
      "image/png": "[encoded data removed]",
      "text/plain": [
       "<Figure size 720x576 with 2 Axes>"
      ]
     },
     "metadata": {
      "needs_background": "light"
     },
     "output_type": "display_data"
    }
   ],
   "source": [
    "fig, axarr = plt.subplots(2, 1, figsize=(10, 8), constrained_layout=True)\n",
    "\n",
    "axarr[0].spy(coef_hat, aspect=\"auto\")\n",
    "axarr[0].xaxis.tick_bottom()\n",
    "axarr[0].set_title(\"Recovered signal\", fontweight=\"bold\")\n",
    "axarr[0].set_ylabel(\"tasks\")\n",
    "axarr[1].spy(coef, aspect=\"auto\")\n",
    "axarr[1].xaxis.tick_bottom()\n",
    "axarr[1].set_title(\"Original signal\", fontweight=\"bold\")\n",
    "\n",
    "plt.suptitle(\"Sparsity patterns\", fontsize=20, fontweight=\"bold\")\n",
    "plt.ylabel(\"tasks\")\n",
    "plt.xlabel(\"features\")\n",
    "plt.show(block=False)"
   ]
  },
  {
   "cell_type": "code",
   "execution_count": 48,
   "id": "moderate-contest",
   "metadata": {},
   "outputs": [
    {
     "name": "stdout",
     "output_type": "stream",
     "text": [
      "Iteration 0: 0.0308\n",
      "Iteration 1: 0.0225\n",
      "Iteration 2: 0.0211\n",
      "Iteration 3: 0.0206\n",
      "Iteration 4: 0.0206\n",
      "Iteration 5: 0.0203\n",
      "Iteration 6: 0.0200\n",
      "Iteration 7: 0.0200\n",
      "Iteration 8: 0.0200\n",
      "Iteration 9: 0.0200\n"
     ]
    }
   ],
   "source": [
    "regressor = ReweightedMTL(alpha=0.01)\n",
    "regressor.fit(X, Y, n_iterations=10)"
   ]
  },
  {
   "cell_type": "code",
   "execution_count": 49,
   "id": "periodic-impression",
   "metadata": {},
   "outputs": [
    {
     "data": {
      "image/png": "[encoded data removed]",
      "text/plain": [
       "<Figure size 720x576 with 2 Axes>"
      ]
     },
     "metadata": {
      "needs_background": "light"
     },
     "output_type": "display_data"
    }
   ],
   "source": [
    "coef_hat = regressor.weights\n",
    "\n",
    "fig, axarr = plt.subplots(2, 1, figsize=(10, 8), constrained_layout=True)\n",
    "\n",
    "axarr[0].spy(coef_hat, aspect=\"auto\")\n",
    "axarr[0].xaxis.tick_bottom()\n",
    "axarr[0].set_title(\"Recovered signal\", fontweight=\"bold\")\n",
    "axarr[0].set_ylabel(\"tasks\")\n",
    "axarr[1].spy(coef, aspect=\"auto\")\n",
    "axarr[1].xaxis.tick_bottom()\n",
    "axarr[1].set_title(\"Original signal\", fontweight=\"bold\")\n",
    "\n",
    "plt.suptitle(\"Sparsity patterns\", fontsize=20, fontweight=\"bold\")\n",
    "plt.ylabel(\"tasks\")\n",
    "plt.xlabel(\"features\")\n",
    "plt.show(block=False)"
   ]
  },
  {
   "cell_type": "code",
   "execution_count": null,
   "id": "possible-transcription",
   "metadata": {},
   "outputs": [],
   "source": []
  }
 ],
 "metadata": {
  "kernelspec": {
   "display_name": "Python 3.7.4 64-bit ('base': conda)",
   "language": "python",
   "name": "python37464bitbasecondaa034928ca54b4b7887763f9fc65af3c7"
  },
  "language_info": {
   "codemirror_mode": {
    "name": "ipython",
    "version": 3
   },
   "file_extension": ".py",
   "mimetype": "text/x-python",
   "name": "python",
   "nbconvert_exporter": "python",
   "pygments_lexer": "ipython3",
   "version": "3.7.4"
  }
 },
 "nbformat": 4,
 "nbformat_minor": 5
}
