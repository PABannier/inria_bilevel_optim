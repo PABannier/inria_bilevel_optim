{
 "cells": [
  {
   "cell_type": "code",
   "execution_count": 1,
   "id": "smooth-married",
   "metadata": {
    "scrolled": true
   },
   "outputs": [],
   "source": [
    "!pip install ../mtl_code -q"
   ]
  },
  {
   "cell_type": "code",
   "execution_count": 2,
   "id": "casual-royalty",
   "metadata": {},
   "outputs": [],
   "source": [
    "from mtl.simulated_data import simulate_data\n",
    "from mtl.mtl import ReweightedMTL\n",
    "from mtl.cross_validation import MultiTaskLassoCV\n",
    "\n",
    "import numpy as np\n",
    "from numpy.linalg import norm\n",
    "\n",
    "from sklearn.utils import check_random_state\n",
    "\n",
    "import matplotlib.pyplot as plt\n",
    "import seaborn as sns"
   ]
  },
  {
   "cell_type": "markdown",
   "id": "finished-leader",
   "metadata": {},
   "source": [
    "## Generate and visualize data\n",
    "\n",
    "First, let's generate some data by filling some rows of the coefficient matrix by a sine wave to which some noise is added (row-sparse matrix). Note that we normalize the matrix by the Frobenius norm."
   ]
  },
  {
   "cell_type": "code",
   "execution_count": 3,
   "id": "pharmaceutical-chess",
   "metadata": {},
   "outputs": [],
   "source": [
    "# https://mathurinm.github.io/celer/auto_examples/plot_multitask_lasso_cv.html\n",
    "\n",
    "def generate_noisy_data(\n",
    "    n_samples=10, n_features=50, n_tasks=5, n_relevant_features=5, random_state=42\n",
    "):\n",
    "    rng = check_random_state(random_state)\n",
    "\n",
    "    support = rng.choice(n_features, n_relevant_features, replace=False)\n",
    "\n",
    "    coef = np.zeros((n_features, n_tasks))\n",
    "    times = np.linspace(0, 2 * np.pi, n_tasks)\n",
    "\n",
    "    for k in support:\n",
    "        coef[k, :] = np.sin((1.0 + rng.randn(1)) * times + 3 * rng.randn(1))\n",
    "\n",
    "    X = rng.randn(n_samples, n_features)\n",
    "    Y = X @ coef + rng.randn(n_samples, n_tasks)\n",
    "    Y /= norm(Y, ord=\"fro\")\n",
    "    \n",
    "    return X, Y, coef"
   ]
  },
  {
   "cell_type": "code",
   "execution_count": 4,
   "id": "adopted-channels",
   "metadata": {},
   "outputs": [],
   "source": [
    "X, Y, coef = generate_noisy_data()"
   ]
  },
  {
   "cell_type": "code",
   "execution_count": 5,
   "id": "professional-parcel",
   "metadata": {},
   "outputs": [
    {
     "data": {
      "image/png": "[encoded data removed]",
      "text/plain": [
       "<Figure size 720x504 with 1 Axes>"
      ]
     },
     "metadata": {
      "needs_background": "light"
     },
     "output_type": "display_data"
    }
   ],
   "source": [
    "fig = plt.figure(figsize=(10, 7))\n",
    "plt.title('A row-sparse coefficient matrix', fontweight=\"bold\", fontsize=15)\n",
    "plt.imshow(coef.T, cmap=\"binary\");"
   ]
  },
  {
   "cell_type": "markdown",
   "id": "static-transaction",
   "metadata": {},
   "source": [
    "We notice that we have created 5 non-empty rows. We want our model to recover the number of non-zero rows as well as their location. But first, let's compute the max value that $\\alpha$ can take. Beyond this threshold, all the coefficients in the coefficient matrix are zero."
   ]
  },
  {
   "cell_type": "code",
   "execution_count": 6,
   "id": "southeast-nelson",
   "metadata": {},
   "outputs": [],
   "source": [
    "def compute_alpha_max(X, Y):\n",
    "    return np.max(X.T @ Y) / X.shape[0]"
   ]
  },
  {
   "cell_type": "code",
   "execution_count": 7,
   "id": "prime-biodiversity",
   "metadata": {},
   "outputs": [
    {
     "name": "stdout",
     "output_type": "stream",
     "text": [
      "Alpha max: 0.13356227598634404\n"
     ]
    }
   ],
   "source": [
    "alpha_max = compute_alpha_max(X, Y)\n",
    "print('Alpha max:', alpha_max)"
   ]
  },
  {
   "cell_type": "markdown",
   "id": "similar-christmas",
   "metadata": {},
   "source": [
    "Now let's fit a model very close to this $\\alpha_{\\text{max}}$ to check that indeed we have a zero matrix."
   ]
  },
  {
   "cell_type": "code",
   "execution_count": 8,
   "id": "brutal-assembly",
   "metadata": {},
   "outputs": [
    {
     "name": "stdout",
     "output_type": "stream",
     "text": [
      "Iteration 0: 0.1187\n",
      "Iteration 1: 0.0555\n",
      "Iteration 2: 0.0500\n",
      "Iteration 3: 0.0500\n",
      "Iteration 4: 0.0500\n"
     ]
    }
   ],
   "source": [
    "regressor = ReweightedMTL(alpha=0.1)\n",
    "regressor.fit(X, Y)"
   ]
  },
  {
   "cell_type": "code",
   "execution_count": 9,
   "id": "unlikely-baptist",
   "metadata": {},
   "outputs": [
    {
     "data": {
      "image/png": "[encoded data removed]",
      "text/plain": [
       "<Figure size 720x288 with 2 Axes>"
      ]
     },
     "metadata": {
      "needs_background": "light"
     },
     "output_type": "display_data"
    }
   ],
   "source": [
    "coef_hat = regressor.weights\n",
    "\n",
    "fig, axes = plt.subplots(2, 1, figsize=(10, 4))\n",
    "\n",
    "axes[0].set_title('Original signal', fontweight=\"bold\", fontsize=15)\n",
    "axes[0].imshow(coef.T, cmap=\"binary\")\n",
    "\n",
    "axes[1].set_title('Recovered signal', fontweight=\"bold\", fontsize=15)\n",
    "axes[1].imshow(coef_hat.T, cmap=\"binary\")\n",
    "\n",
    "fig.suptitle('A first attempt for Reweighted Multi-Task LASSO minimization', fontweight=\"bold\", fontsize=18);"
   ]
  },
  {
   "cell_type": "markdown",
   "id": "comfortable-colon",
   "metadata": {},
   "source": [
    "This is an expected result as the default $\\alpha$ is very close to $\\alpha_{\\text{max}}$. All coefficients are zeroed-out. Now, in order to select the right value for $\\alpha$, we will cross-validate the hyperparameter $\\alpha$."
   ]
  },
  {
   "cell_type": "markdown",
   "id": "floating-ecology",
   "metadata": {},
   "source": [
    "## Cross-validation\n",
    "\n",
    "The cross-validation is done over 5 folds and for $\\alpha \\in [0.001,1]$."
   ]
  },
  {
   "cell_type": "code",
   "execution_count": 10,
   "id": "frozen-angola",
   "metadata": {},
   "outputs": [],
   "source": [
    "alphas = np.geomspace(1e-3, 1, num=20)\n",
    "regressor = MultiTaskLassoCV(alphas, n_folds=5)"
   ]
  },
  {
   "cell_type": "code",
   "execution_count": 11,
   "id": "owned-vegetable",
   "metadata": {},
   "outputs": [
    {
     "name": "stdout",
     "output_type": "stream",
     "text": [
      "Fitting MTL estimator with alpha = 0.001\n",
      "Criterion reduced from inf to 0.01481 for alpha = 0.001\n",
      "Fitting MTL estimator with alpha = 0.0014384498882876629\n",
      "Criterion reduced from 0.01481 to 0.01448 for alpha = 0.0014384498882876629\n",
      "Fitting MTL estimator with alpha = 0.00206913808111479\n",
      "Fitting MTL estimator with alpha = 0.002976351441631319\n",
      "Fitting MTL estimator with alpha = 0.004281332398719396\n",
      "Fitting MTL estimator with alpha = 0.006158482110660267\n",
      "Fitting MTL estimator with alpha = 0.008858667904100823\n",
      "Criterion reduced from 0.01448 to 0.01336 for alpha = 0.008858667904100823\n",
      "Fitting MTL estimator with alpha = 0.012742749857031334\n",
      "Fitting MTL estimator with alpha = 0.018329807108324356\n",
      "Fitting MTL estimator with alpha = 0.026366508987303583\n",
      "Criterion reduced from 0.01336 to 0.01168 for alpha = 0.026366508987303583\n",
      "Fitting MTL estimator with alpha = 0.0379269019073225\n",
      "Fitting MTL estimator with alpha = 0.05455594781168517\n",
      "Fitting MTL estimator with alpha = 0.07847599703514611\n",
      "Fitting MTL estimator with alpha = 0.11288378916846883\n",
      "Fitting MTL estimator with alpha = 0.1623776739188721\n",
      "Fitting MTL estimator with alpha = 0.23357214690901212\n",
      "Fitting MTL estimator with alpha = 0.3359818286283781\n",
      "Fitting MTL estimator with alpha = 0.4832930238571752\n",
      "Fitting MTL estimator with alpha = 0.6951927961775606\n",
      "Fitting MTL estimator with alpha = 1.0\n",
      "\n",
      "\n",
      "Best criterion: 0.011679622530729109\n",
      "Best alpha: 0.026366508987303583\n"
     ]
    }
   ],
   "source": [
    "regressor.fit(X, Y)"
   ]
  },
  {
   "cell_type": "code",
   "execution_count": 12,
   "id": "infinite-condition",
   "metadata": {},
   "outputs": [
    {
     "data": {
      "image/png": "[encoded data removed]",
      "text/plain": [
       "<Figure size 720x288 with 2 Axes>"
      ]
     },
     "metadata": {
      "needs_background": "light"
     },
     "output_type": "display_data"
    }
   ],
   "source": [
    "coef_hat = regressor.weights\n",
    "\n",
    "fig, axes = plt.subplots(2, 1, figsize=(10, 4))\n",
    "\n",
    "axes[0].set_title('Original signal', fontweight=\"bold\", fontsize=15)\n",
    "axes[0].imshow(coef.T, cmap=\"binary\")\n",
    "\n",
    "axes[1].set_title('Recovered signal', fontweight=\"bold\", fontsize=15)\n",
    "axes[1].imshow(coef_hat.T, cmap=\"binary\")\n",
    "\n",
    "fig.suptitle('A cross-validated attempt...', fontweight=\"bold\", fontsize=18);"
   ]
  },
  {
   "cell_type": "markdown",
   "id": "combined-egypt",
   "metadata": {},
   "source": [
    "We note that 3 out of 5 non zero features are retrieved, and that their exact location are found by the Multi-Task LASSO!\n",
    "<br/>\n",
    "Now let's try LASSO on a bigger example and try to find a relation between the support recovery and the number of iterations or $\\alpha$."
   ]
  },
  {
   "cell_type": "markdown",
   "id": "appointed-examination",
   "metadata": {},
   "source": [
    "## A larger example. "
   ]
  },
  {
   "cell_type": "code",
   "execution_count": 13,
   "id": "announced-vienna",
   "metadata": {},
   "outputs": [],
   "source": [
    "X, Y, W = generate_noisy_data(\n",
    "    n_samples=50, n_features=250, n_tasks=25, n_relevant_features=25, random_state=2020\n",
    ")"
   ]
  },
  {
   "cell_type": "code",
   "execution_count": 14,
   "id": "previous-business",
   "metadata": {},
   "outputs": [
    {
     "name": "stdout",
     "output_type": "stream",
     "text": [
      "Alpha max: 0.020811839291720105\n"
     ]
    }
   ],
   "source": [
    "alpha_max = compute_alpha_max(X, Y)\n",
    "print('Alpha max:', alpha_max)"
   ]
  },
  {
   "cell_type": "code",
   "execution_count": 15,
   "id": "vital-steal",
   "metadata": {},
   "outputs": [],
   "source": [
    "alphas = np.geomspace(1e-4, 5e-2, num=15)\n",
    "regressor = MultiTaskLassoCV(alphas, n_folds=3)"
   ]
  },
  {
   "cell_type": "code",
   "execution_count": 16,
   "id": "sophisticated-arthur",
   "metadata": {},
   "outputs": [
    {
     "name": "stdout",
     "output_type": "stream",
     "text": [
      "Fitting MTL estimator with alpha = 0.0001\n"
     ]
    },
    {
     "name": "stderr",
     "output_type": "stream",
     "text": [
      "/Users/pierre-antoine/Applications/anaconda3/lib/python3.7/site-packages/sklearn/linear_model/_coordinate_descent.py:1953: ConvergenceWarning: Objective did not converge. You might want to increase the number of iterations. Duality gap: 0.00011686188234737618, tolerance: 6.693286686407488e-05\n",
      "  check_random_state(self.random_state), random)\n",
      "/Users/pierre-antoine/Applications/anaconda3/lib/python3.7/site-packages/sklearn/linear_model/_coordinate_descent.py:1953: ConvergenceWarning: Objective did not converge. You might want to increase the number of iterations. Duality gap: 7.712506420453858e-05, tolerance: 6.991759171561994e-05\n",
      "  check_random_state(self.random_state), random)\n"
     ]
    },
    {
     "name": "stdout",
     "output_type": "stream",
     "text": [
      "Criterion reduced from inf to 0.00049 for alpha = 0.0001\n",
      "Fitting MTL estimator with alpha = 0.00015587755020547784\n",
      "Criterion reduced from 0.00049 to 0.00049 for alpha = 0.00015587755020547784\n",
      "Fitting MTL estimator with alpha = 0.00024297810658061288\n",
      "Criterion reduced from 0.00049 to 0.00048 for alpha = 0.00024297810658061288\n",
      "Fitting MTL estimator with alpha = 0.0003787483200735143\n",
      "Criterion reduced from 0.00048 to 0.00045 for alpha = 0.0003787483200735143\n",
      "Fitting MTL estimator with alpha = 0.0005903836027749967\n",
      "Criterion reduced from 0.00045 to 0.00043 for alpha = 0.0005903836027749967\n",
      "Fitting MTL estimator with alpha = 0.0009202754968205042\n",
      "Criterion reduced from 0.00043 to 0.00041 for alpha = 0.0009202754968205042\n",
      "Fitting MTL estimator with alpha = 0.0014345028995850922\n",
      "Fitting MTL estimator with alpha = 0.0022360679774997894\n",
      "Fitting MTL estimator with alpha = 0.003485527984255851\n",
      "Fitting MTL estimator with alpha = 0.0054331556335843936\n",
      "Fitting MTL estimator with alpha = 0.00846906990048226\n",
      "Fitting MTL estimator with alpha = 0.01320137868606126\n",
      "Fitting MTL estimator with alpha = 0.02057798568918039\n",
      "Fitting MTL estimator with alpha = 0.03207645997392824\n",
      "Fitting MTL estimator with alpha = 0.049999999999999996\n",
      "\n",
      "\n",
      "Best criterion: 0.00041265855241126885\n",
      "Best alpha: 0.0009202754968205042\n"
     ]
    }
   ],
   "source": [
    "regressor.fit(X, Y)"
   ]
  },
  {
   "cell_type": "code",
   "execution_count": 17,
   "id": "hybrid-round",
   "metadata": {},
   "outputs": [
    {
     "data": {
      "image/png": "[encoded data removed]",
      "text/plain": [
       "<Figure size 576x432 with 2 Axes>"
      ]
     },
     "metadata": {
      "needs_background": "light"
     },
     "output_type": "display_data"
    }
   ],
   "source": [
    "W_hat = regressor.weights\n",
    "\n",
    "fig, axarr = plt.subplots(2, 1, figsize=(8, 6), constrained_layout=True)\n",
    "axarr[0].spy(W.T, aspect=\"auto\")\n",
    "axarr[0].xaxis.tick_bottom()\n",
    "axarr[0].set_title(\"Original signal\", fontsize=14)\n",
    "axarr[0].set_ylabel(\"Tasks\", fontsize=12)\n",
    "axarr[1].spy(W_hat.T, aspect=\"auto\")\n",
    "axarr[1].xaxis.tick_bottom()\n",
    "axarr[1].set_title(\"Reconstructed signal\", fontsize=14)\n",
    "plt.suptitle(\"Sparsity patterns\", fontweight=\"bold\", fontsize=20)\n",
    "plt.ylabel(\"Tasks\", fontsize=12)\n",
    "plt.xlabel(\"Features\", fontsize=12)\n",
    "plt.show(block=False)"
   ]
  },
  {
   "cell_type": "markdown",
   "id": "shaped-charlotte",
   "metadata": {},
   "source": [
    "It looks quite good. The rows are roughly at the right location and it seems that the expected and the effective number of non-zero rows are equal. Let's check that..."
   ]
  },
  {
   "cell_type": "code",
   "execution_count": 18,
   "id": "initial-anaheim",
   "metadata": {},
   "outputs": [
    {
     "name": "stdout",
     "output_type": "stream",
     "text": [
      "Number of non-zero rows in original: 25\n",
      "Number of non-zero rows in reconstructed: 25\n"
     ]
    }
   ],
   "source": [
    "nnz_original = np.count_nonzero(np.count_nonzero(W, axis=1))\n",
    "nnz_reconstructed = np.count_nonzero(np.count_nonzero(W_hat, axis=1))\n",
    "\n",
    "print('Number of non-zero rows in original:', nnz_original)\n",
    "print('Number of non-zero rows in reconstructed:', nnz_reconstructed)"
   ]
  },
  {
   "cell_type": "markdown",
   "id": "specific-absorption",
   "metadata": {},
   "source": [
    "Indeed, it is the same!\n",
    "<br/>\n",
    "Now let's try to investigate the relationship between the support recovery and the number of iterations. "
   ]
  },
  {
   "cell_type": "markdown",
   "id": "filled-association",
   "metadata": {},
   "source": [
    "## Support recovery and iterations"
   ]
  },
  {
   "cell_type": "markdown",
   "id": "plastic-option",
   "metadata": {},
   "source": [
    "Let's take the same example as previously. We know that the true support is 25, we want to know how fast the reweighted LASSO converges to this support."
   ]
  },
  {
   "cell_type": "code",
   "execution_count": 19,
   "id": "advised-jersey",
   "metadata": {},
   "outputs": [],
   "source": [
    "supports = []"
   ]
  },
  {
   "cell_type": "code",
   "execution_count": 20,
   "id": "round-deviation",
   "metadata": {},
   "outputs": [],
   "source": [
    "for n_iterations in range(1, 11):\n",
    "    estimator = ReweightedMTL(alpha=0.0009, verbose=False)\n",
    "    estimator.fit(X, Y, n_iterations=n_iterations)\n",
    "    \n",
    "    W_hat = estimator.weights\n",
    "    nnz_reconstructed = np.count_nonzero(np.count_nonzero(W_hat, axis=1))\n",
    "    \n",
    "    supports.append(nnz_reconstructed)"
   ]
  },
  {
   "cell_type": "code",
   "execution_count": 21,
   "id": "false-wright",
   "metadata": {},
   "outputs": [
    {
     "data": {
      "image/png": "[encoded data removed]",
      "text/plain": [
       "<Figure size 576x432 with 1 Axes>"
      ]
     },
     "metadata": {
      "needs_background": "light"
     },
     "output_type": "display_data"
    }
   ],
   "source": [
    "fig = plt.figure(figsize=(8, 6))\n",
    "\n",
    "plt.plot(supports)\n",
    "plt.title('Support recovery over iterations', fontweight=\"bold\", fontsize=20)\n",
    "plt.xlabel('Iteration', fontsize=12)\n",
    "plt.ylabel('Sparsity level', fontsize=12);"
   ]
  },
  {
   "cell_type": "markdown",
   "id": "administrative-trial",
   "metadata": {},
   "source": [
    "We see that the model converges very fast in the first iteration and zeroes out the noise quite easily. It takes the whole 10 iterations to come up with the exact number of non-zero coefficients."
   ]
  },
  {
   "cell_type": "markdown",
   "id": "parental-nurse",
   "metadata": {},
   "source": [
    "## Support recovery and regularizing constant"
   ]
  },
  {
   "cell_type": "markdown",
   "id": "english-liberty",
   "metadata": {},
   "source": [
    "We will now investigate the relationship between $\\alpha$ and the sparsity level. Obviously, we expect that the larger $\\alpha$, the larger the sparsity level. Let's verify this intuition."
   ]
  },
  {
   "cell_type": "code",
   "execution_count": 22,
   "id": "consecutive-cache",
   "metadata": {},
   "outputs": [],
   "source": [
    "supports = []"
   ]
  },
  {
   "cell_type": "code",
   "execution_count": 23,
   "id": "competent-tumor",
   "metadata": {},
   "outputs": [],
   "source": [
    "for alpha in alphas:\n",
    "    estimator = ReweightedMTL(alpha=alpha, verbose=False)\n",
    "    estimator.fit(X, Y)\n",
    "    \n",
    "    W_hat = estimator.weights\n",
    "    nnz_reconstructed = np.count_nonzero(np.count_nonzero(W_hat, axis=1))\n",
    "    \n",
    "    supports.append(nnz_reconstructed)"
   ]
  },
  {
   "cell_type": "code",
   "execution_count": 24,
   "id": "prerequisite-exception",
   "metadata": {},
   "outputs": [
    {
     "data": {
      "image/png": "[encoded data removed]",
      "text/plain": [
       "<Figure size 576x432 with 1 Axes>"
      ]
     },
     "metadata": {
      "needs_background": "light"
     },
     "output_type": "display_data"
    }
   ],
   "source": [
    "fig = plt.figure(figsize=(8, 6))\n",
    "\n",
    "xlabels = [str(round(x, 4)) for x in alphas]\n",
    "\n",
    "plt.plot(supports)\n",
    "plt.title('Support recovery against penalizing constant', fontweight=\"bold\", fontsize=20)\n",
    "plt.xlabel('alpha', fontsize=12)\n",
    "plt.xticks(np.arange(len(alphas)), xlabels)\n",
    "plt.xticks(rotation=45)\n",
    "plt.ylabel('Sparsity level', fontsize=12);"
   ]
  },
  {
   "cell_type": "markdown",
   "id": "sensitive-extent",
   "metadata": {},
   "source": [
    "Indeed, we find that the larger alpha, the smaller the support and that at around 0.02, the support is empty."
   ]
  }
 ],
 "metadata": {
  "kernelspec": {
   "display_name": "Python 3.7.4 64-bit ('base': conda)",
   "language": "python",
   "name": "python37464bitbasecondaa034928ca54b4b7887763f9fc65af3c7"
  },
  "language_info": {
   "codemirror_mode": {
    "name": "ipython",
    "version": 3
   },
   "file_extension": ".py",
   "mimetype": "text/x-python",
   "name": "python",
   "nbconvert_exporter": "python",
   "pygments_lexer": "ipython3",
   "version": "3.7.4"
  }
 },
 "nbformat": 4,
 "nbformat_minor": 5
}
