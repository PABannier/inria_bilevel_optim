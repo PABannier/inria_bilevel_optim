{
 "cells": [
  {
   "cell_type": "code",
   "execution_count": 1,
   "id": "tender-withdrawal",
   "metadata": {
    "scrolled": true
   },
   "outputs": [
    {
     "name": "stdout",
     "output_type": "stream",
     "text": [
      "Processing /Users/pierre-antoine/Desktop/inria_bilevel_optim/mtl_code\n",
      "Requirement already satisfied: libsvmdata in /Users/pierre-antoine/Applications/anaconda3/lib/python3.7/site-packages (from mtl==0.0.0) (0.1)\n",
      "Requirement already satisfied: numpy>=1.12 in /Users/pierre-antoine/Applications/anaconda3/lib/python3.7/site-packages (from mtl==0.0.0) (1.17.2)\n",
      "Requirement already satisfied: numba in /Users/pierre-antoine/Applications/anaconda3/lib/python3.7/site-packages (from mtl==0.0.0) (0.45.1)\n",
      "Requirement already satisfied: seaborn>=0.7 in /Users/pierre-antoine/Applications/anaconda3/lib/python3.7/site-packages (from mtl==0.0.0) (0.11.0)\n",
      "Requirement already satisfied: joblib in /Users/pierre-antoine/Applications/anaconda3/lib/python3.7/site-packages (from mtl==0.0.0) (0.13.2)\n",
      "Requirement already satisfied: scipy>=0.18.0 in /Users/pierre-antoine/Applications/anaconda3/lib/python3.7/site-packages (from mtl==0.0.0) (1.3.1)\n",
      "Requirement already satisfied: matplotlib>=2.0.0 in /Users/pierre-antoine/Applications/anaconda3/lib/python3.7/site-packages (from mtl==0.0.0) (3.3.2)\n",
      "Requirement already satisfied: scikit-learn>=0.23 in /Users/pierre-antoine/Applications/anaconda3/lib/python3.7/site-packages (from mtl==0.0.0) (0.24.1)\n",
      "Requirement already satisfied: pandas in /Users/pierre-antoine/Applications/anaconda3/lib/python3.7/site-packages (from mtl==0.0.0) (0.25.1)\n",
      "Requirement already satisfied: ipython in /Users/pierre-antoine/Applications/anaconda3/lib/python3.7/site-packages (from mtl==0.0.0) (7.8.0)\n",
      "Requirement already satisfied: download in /Users/pierre-antoine/Applications/anaconda3/lib/python3.7/site-packages (from libsvmdata->mtl==0.0.0) (0.3.5)\n",
      "Requirement already satisfied: llvmlite>=0.29.0dev0 in /Users/pierre-antoine/Applications/anaconda3/lib/python3.7/site-packages (from numba->mtl==0.0.0) (0.29.0)\n",
      "Requirement already satisfied: pyparsing!=2.0.4,!=2.1.2,!=2.1.6,>=2.0.3 in /Users/pierre-antoine/Applications/anaconda3/lib/python3.7/site-packages (from matplotlib>=2.0.0->mtl==0.0.0) (2.4.2)\n",
      "Requirement already satisfied: kiwisolver>=1.0.1 in /Users/pierre-antoine/Applications/anaconda3/lib/python3.7/site-packages (from matplotlib>=2.0.0->mtl==0.0.0) (1.1.0)\n",
      "Requirement already satisfied: python-dateutil>=2.1 in /Users/pierre-antoine/Applications/anaconda3/lib/python3.7/site-packages (from matplotlib>=2.0.0->mtl==0.0.0) (2.8.0)\n",
      "Requirement already satisfied: pillow>=6.2.0 in /Users/pierre-antoine/Applications/anaconda3/lib/python3.7/site-packages (from matplotlib>=2.0.0->mtl==0.0.0) (6.2.0)\n",
      "Requirement already satisfied: cycler>=0.10 in /Users/pierre-antoine/Applications/anaconda3/lib/python3.7/site-packages (from matplotlib>=2.0.0->mtl==0.0.0) (0.10.0)\n",
      "Requirement already satisfied: certifi>=2020.06.20 in /Users/pierre-antoine/Applications/anaconda3/lib/python3.7/site-packages (from matplotlib>=2.0.0->mtl==0.0.0) (2020.6.20)\n",
      "Requirement already satisfied: threadpoolctl>=2.0.0 in /Users/pierre-antoine/Applications/anaconda3/lib/python3.7/site-packages (from scikit-learn>=0.23->mtl==0.0.0) (2.1.0)\n",
      "Requirement already satisfied: pytz>=2017.2 in /Users/pierre-antoine/Applications/anaconda3/lib/python3.7/site-packages (from pandas->mtl==0.0.0) (2019.3)\n",
      "Requirement already satisfied: traitlets>=4.2 in /Users/pierre-antoine/Applications/anaconda3/lib/python3.7/site-packages (from ipython->mtl==0.0.0) (4.3.3)\n",
      "Requirement already satisfied: prompt-toolkit<2.1.0,>=2.0.0 in /Users/pierre-antoine/Applications/anaconda3/lib/python3.7/site-packages (from ipython->mtl==0.0.0) (2.0.10)\n",
      "Requirement already satisfied: backcall in /Users/pierre-antoine/Applications/anaconda3/lib/python3.7/site-packages (from ipython->mtl==0.0.0) (0.1.0)\n",
      "Requirement already satisfied: appnope; sys_platform == \"darwin\" in /Users/pierre-antoine/Applications/anaconda3/lib/python3.7/site-packages (from ipython->mtl==0.0.0) (0.1.0)\n",
      "Requirement already satisfied: jedi>=0.10 in /Users/pierre-antoine/Applications/anaconda3/lib/python3.7/site-packages (from ipython->mtl==0.0.0) (0.15.1)\n",
      "Requirement already satisfied: pygments in /Users/pierre-antoine/Applications/anaconda3/lib/python3.7/site-packages (from ipython->mtl==0.0.0) (2.4.2)\n",
      "Requirement already satisfied: pickleshare in /Users/pierre-antoine/Applications/anaconda3/lib/python3.7/site-packages (from ipython->mtl==0.0.0) (0.7.5)\n",
      "Requirement already satisfied: decorator in /Users/pierre-antoine/Applications/anaconda3/lib/python3.7/site-packages (from ipython->mtl==0.0.0) (4.4.0)\n",
      "Requirement already satisfied: pexpect; sys_platform != \"win32\" in /Users/pierre-antoine/Applications/anaconda3/lib/python3.7/site-packages (from ipython->mtl==0.0.0) (4.7.0)\n",
      "Requirement already satisfied: setuptools>=18.5 in /Users/pierre-antoine/Applications/anaconda3/lib/python3.7/site-packages (from ipython->mtl==0.0.0) (41.4.0)\n",
      "Requirement already satisfied: six in /Users/pierre-antoine/Applications/anaconda3/lib/python3.7/site-packages (from download->libsvmdata->mtl==0.0.0) (1.12.0)\n",
      "Requirement already satisfied: requests in /Users/pierre-antoine/Applications/anaconda3/lib/python3.7/site-packages (from download->libsvmdata->mtl==0.0.0) (2.22.0)\n",
      "Requirement already satisfied: tqdm in /Users/pierre-antoine/Applications/anaconda3/lib/python3.7/site-packages (from download->libsvmdata->mtl==0.0.0) (4.36.1)\n",
      "Requirement already satisfied: ipython-genutils in /Users/pierre-antoine/Applications/anaconda3/lib/python3.7/site-packages (from traitlets>=4.2->ipython->mtl==0.0.0) (0.2.0)\n",
      "Requirement already satisfied: wcwidth in /Users/pierre-antoine/Applications/anaconda3/lib/python3.7/site-packages (from prompt-toolkit<2.1.0,>=2.0.0->ipython->mtl==0.0.0) (0.1.7)\n",
      "Requirement already satisfied: parso>=0.5.0 in /Users/pierre-antoine/Applications/anaconda3/lib/python3.7/site-packages (from jedi>=0.10->ipython->mtl==0.0.0) (0.5.1)\n",
      "Requirement already satisfied: ptyprocess>=0.5 in /Users/pierre-antoine/Applications/anaconda3/lib/python3.7/site-packages (from pexpect; sys_platform != \"win32\"->ipython->mtl==0.0.0) (0.6.0)\n",
      "Requirement already satisfied: urllib3!=1.25.0,!=1.25.1,<1.26,>=1.21.1 in /Users/pierre-antoine/Applications/anaconda3/lib/python3.7/site-packages (from requests->download->libsvmdata->mtl==0.0.0) (1.24.2)\n",
      "Requirement already satisfied: chardet<3.1.0,>=3.0.2 in /Users/pierre-antoine/Applications/anaconda3/lib/python3.7/site-packages (from requests->download->libsvmdata->mtl==0.0.0) (3.0.4)\n",
      "Requirement already satisfied: idna<2.9,>=2.5 in /Users/pierre-antoine/Applications/anaconda3/lib/python3.7/site-packages (from requests->download->libsvmdata->mtl==0.0.0) (2.8)\n",
      "Building wheels for collected packages: mtl\n",
      "  Building wheel for mtl (setup.py) ... \u001b[?25ldone\n",
      "\u001b[?25h  Created wheel for mtl: filename=mtl-0.0.0-cp37-none-any.whl size=5359 sha256=46e55ff9564e979103aa5349f0e9c7d6ea487261dff311c4ec58bb9dff4d47eb\n",
      "  Stored in directory: /private/var/folders/88/1nv03x2s1mv2xlv78myb8nnc0000gn/T/pip-ephem-wheel-cache-kgip_4n8/wheels/47/64/79/3da8c850f6210d2d028b32e5bf63ff67613b14e3c2a7444888\n",
      "Successfully built mtl\n",
      "Installing collected packages: mtl\n",
      "  Found existing installation: mtl 0.0.0\n",
      "    Uninstalling mtl-0.0.0:\n",
      "      Successfully uninstalled mtl-0.0.0\n",
      "Successfully installed mtl-0.0.0\n"
     ]
    }
   ],
   "source": [
    "!pip install ../mtl_code"
   ]
  },
  {
   "cell_type": "code",
   "execution_count": 2,
   "id": "sufficient-rugby",
   "metadata": {},
   "outputs": [],
   "source": [
    "from mtl.simulated_data import simulate_data\n",
    "from mtl.mtl import ReweightedMTL\n",
    "\n",
    "import numpy as np\n",
    "from numpy.linalg import norm\n",
    "\n",
    "import matplotlib.pyplot as plt\n",
    "import seaborn as sns"
   ]
  },
  {
   "cell_type": "markdown",
   "id": "ready-history",
   "metadata": {},
   "source": [
    "## A first example: sparse signal reconstruction \n",
    "\n",
    "First, let's generate some toy data with the **simulate_data** function and plot the coefficient matrix **W**."
   ]
  },
  {
   "cell_type": "code",
   "execution_count": 3,
   "id": "academic-penalty",
   "metadata": {},
   "outputs": [],
   "source": [
    "X, Y, W =  simulate_data(\n",
    "    n_samples=8, n_features=10, n_tasks=5, nnz=2, snr=2\n",
    ")"
   ]
  },
  {
   "cell_type": "code",
   "execution_count": 4,
   "id": "assured-lightning",
   "metadata": {},
   "outputs": [
    {
     "data": {
      "image/png": "[encoded data removed]",
      "text/plain": [
       "<Figure size 576x432 with 1 Axes>"
      ]
     },
     "metadata": {
      "needs_background": "light"
     },
     "output_type": "display_data"
    }
   ],
   "source": [
    "fig = plt.figure(figsize=(8, 6))\n",
    "plt.title('A row-sparse matrix', fontweight=\"bold\", fontsize=20)\n",
    "plt.imshow(W, cmap=\"binary\");"
   ]
  },
  {
   "cell_type": "markdown",
   "id": "personalized-packaging",
   "metadata": {},
   "source": [
    "Indeed, we see that only one coefficient in each row is non-zero. We will try to reconstruct this matrix from the matrices $X$ and $Y$ using a reweighted $l_1$ minimization.\n",
    "<br/>\n",
    "<br/>\n",
    "Let's compute the maximum value of our regularizer. Recall that $\\alpha_{\\text{max}} = \\frac{1}{n}\\lvert\\lvert X^{\\top}y \\rvert\\rvert_{\\infty}$."
   ]
  },
  {
   "cell_type": "code",
   "execution_count": 5,
   "id": "sapphire-oxide",
   "metadata": {},
   "outputs": [],
   "source": [
    "def compute_lambda_max(X, Y):\n",
    "    return np.max(X.T @ Y) / X.shape[0]"
   ]
  },
  {
   "cell_type": "code",
   "execution_count": 6,
   "id": "common-plaintiff",
   "metadata": {},
   "outputs": [
    {
     "name": "stdout",
     "output_type": "stream",
     "text": [
      "Lambda max: 3.3489725000144457\n"
     ]
    }
   ],
   "source": [
    "lambda_max = compute_lambda_max(X, Y)\n",
    "print('Lambda max:', lambda_max)"
   ]
  },
  {
   "cell_type": "code",
   "execution_count": 7,
   "id": "raised-savage",
   "metadata": {},
   "outputs": [
    {
     "name": "stdout",
     "output_type": "stream",
     "text": [
      "Iteration 0: 5.6310\n",
      "Iteration 1: 5.3293\n",
      "Iteration 2: 5.2166\n",
      "Iteration 3: 5.2132\n",
      "Iteration 4: 5.2126\n"
     ]
    }
   ],
   "source": [
    "regressor = ReweightedMTL(alpha=0.5)\n",
    "regressor.fit(X, Y)"
   ]
  },
  {
   "cell_type": "markdown",
   "id": "hired-ozone",
   "metadata": {},
   "source": [
    "We observe that the training loss has decreased. Let's now compare the recovered signal with the true signal."
   ]
  },
  {
   "cell_type": "code",
   "execution_count": 8,
   "id": "intended-evans",
   "metadata": {},
   "outputs": [
    {
     "data": {
      "image/png": "[encoded data removed]",
      "text/plain": [
       "<Figure size 864x432 with 2 Axes>"
      ]
     },
     "metadata": {
      "needs_background": "light"
     },
     "output_type": "display_data"
    }
   ],
   "source": [
    "W_hat = regressor.weights\n",
    "\n",
    "fig, axes = plt.subplots(1, 2, figsize=(12, 6))\n",
    "\n",
    "axes[0].set_title('Original signal', fontweight=\"bold\", fontsize=15)\n",
    "axes[0].imshow(W, cmap=\"binary\")\n",
    "\n",
    "axes[1].set_title('Recovered signal', fontweight=\"bold\", fontsize=15)\n",
    "axes[1].imshow(W_hat, cmap=\"binary\")\n",
    "\n",
    "fig.suptitle('A first attempt for Reweighted Multi-Task LASSO minimization', fontweight=\"bold\", fontsize=18);"
   ]
  },
  {
   "cell_type": "markdown",
   "id": "requested-trade",
   "metadata": {},
   "source": [
    "Clearly the sparsity-inducing penalty is not correctly set. We need to find the right  $\\lambda$ by CV. For this, let's use the MultiTaskLassoCV.\n",
    "\n",
    "We define a range for $\\alpha$ that does not go beyond $\\alpha_{\\text{max}}$ since we know that above that value all coefficients are zero."
   ]
  },
  {
   "cell_type": "code",
   "execution_count": 9,
   "id": "academic-tutorial",
   "metadata": {},
   "outputs": [],
   "source": [
    "from mtl.cross_validation import MultiTaskLassoCV"
   ]
  },
  {
   "cell_type": "code",
   "execution_count": 10,
   "id": "theoretical-brazilian",
   "metadata": {},
   "outputs": [],
   "source": [
    "ranges = [\n",
    "    [x * 10 ** (- i) for x in range(1, 10)] for i in range(0, 4)\n",
    "]\n",
    "\n",
    "alpha_range = [x for sublist in ranges for x in sublist]"
   ]
  },
  {
   "cell_type": "code",
   "execution_count": 11,
   "id": "novel-circus",
   "metadata": {},
   "outputs": [],
   "source": [
    "regressor = MultiTaskLassoCV(alpha_range, n_folds=2)"
   ]
  },
  {
   "cell_type": "code",
   "execution_count": 12,
   "id": "mobile-quarterly",
   "metadata": {},
   "outputs": [
    {
     "name": "stdout",
     "output_type": "stream",
     "text": [
      "Fitting MTL estimator with alpha = 1\n",
      "Criterion reduced from inf to 5.98144 for alpha = 1\n",
      "Fitting MTL estimator with alpha = 2\n",
      "Fitting MTL estimator with alpha = 3\n",
      "Fitting MTL estimator with alpha = 4\n",
      "Fitting MTL estimator with alpha = 5\n",
      "Fitting MTL estimator with alpha = 6\n",
      "Fitting MTL estimator with alpha = 7\n",
      "Fitting MTL estimator with alpha = 8\n",
      "Fitting MTL estimator with alpha = 9\n",
      "Fitting MTL estimator with alpha = 0.1\n",
      "Fitting MTL estimator with alpha = 0.2\n",
      "Fitting MTL estimator with alpha = 0.30000000000000004\n",
      "Fitting MTL estimator with alpha = 0.4\n",
      "Fitting MTL estimator with alpha = 0.5\n",
      "Fitting MTL estimator with alpha = 0.6000000000000001\n",
      "Fitting MTL estimator with alpha = 0.7000000000000001\n",
      "Fitting MTL estimator with alpha = 0.8\n",
      "Fitting MTL estimator with alpha = 0.9\n",
      "Fitting MTL estimator with alpha = 0.01\n",
      "Fitting MTL estimator with alpha = 0.02\n",
      "Fitting MTL estimator with alpha = 0.03\n",
      "Fitting MTL estimator with alpha = 0.04\n",
      "Fitting MTL estimator with alpha = 0.05\n",
      "Fitting MTL estimator with alpha = 0.06\n",
      "Fitting MTL estimator with alpha = 0.07\n",
      "Fitting MTL estimator with alpha = 0.08\n",
      "Fitting MTL estimator with alpha = 0.09\n",
      "Fitting MTL estimator with alpha = 0.001\n"
     ]
    },
    {
     "name": "stderr",
     "output_type": "stream",
     "text": [
      "/Users/pierre-antoine/Applications/anaconda3/lib/python3.7/site-packages/sklearn/linear_model/_coordinate_descent.py:1953: ConvergenceWarning: Objective did not converge. You might want to increase the number of iterations. Duality gap: 0.02974356479309502, tolerance: 0.018662063450908258\n",
      "  check_random_state(self.random_state), random)\n",
      "/Users/pierre-antoine/Applications/anaconda3/lib/python3.7/site-packages/sklearn/linear_model/_coordinate_descent.py:1953: ConvergenceWarning: Objective did not converge. You might want to increase the number of iterations. Duality gap: 0.028590632065732667, tolerance: 0.00786627035370375\n",
      "  check_random_state(self.random_state), random)\n",
      "/Users/pierre-antoine/Applications/anaconda3/lib/python3.7/site-packages/sklearn/linear_model/_coordinate_descent.py:1953: ConvergenceWarning: Objective did not converge. You might want to increase the number of iterations. Duality gap: 0.01417167740613909, tolerance: 0.00786627035370375\n",
      "  check_random_state(self.random_state), random)\n",
      "/Users/pierre-antoine/Applications/anaconda3/lib/python3.7/site-packages/sklearn/linear_model/_coordinate_descent.py:1953: ConvergenceWarning: Objective did not converge. You might want to increase the number of iterations. Duality gap: 0.010414648897335533, tolerance: 0.00786627035370375\n",
      "  check_random_state(self.random_state), random)\n",
      "/Users/pierre-antoine/Applications/anaconda3/lib/python3.7/site-packages/sklearn/linear_model/_coordinate_descent.py:1953: ConvergenceWarning: Objective did not converge. You might want to increase the number of iterations. Duality gap: 0.04848779695727372, tolerance: 0.018662063450908258\n",
      "  check_random_state(self.random_state), random)\n",
      "/Users/pierre-antoine/Applications/anaconda3/lib/python3.7/site-packages/sklearn/linear_model/_coordinate_descent.py:1953: ConvergenceWarning: Objective did not converge. You might want to increase the number of iterations. Duality gap: 0.02003378846259059, tolerance: 0.018662063450908258\n",
      "  check_random_state(self.random_state), random)\n",
      "/Users/pierre-antoine/Applications/anaconda3/lib/python3.7/site-packages/sklearn/linear_model/_coordinate_descent.py:1953: ConvergenceWarning: Objective did not converge. You might want to increase the number of iterations. Duality gap: 0.03712282935103921, tolerance: 0.00786627035370375\n",
      "  check_random_state(self.random_state), random)\n",
      "/Users/pierre-antoine/Applications/anaconda3/lib/python3.7/site-packages/sklearn/linear_model/_coordinate_descent.py:1953: ConvergenceWarning: Objective did not converge. You might want to increase the number of iterations. Duality gap: 0.0205725956344622, tolerance: 0.00786627035370375\n",
      "  check_random_state(self.random_state), random)\n",
      "/Users/pierre-antoine/Applications/anaconda3/lib/python3.7/site-packages/sklearn/linear_model/_coordinate_descent.py:1953: ConvergenceWarning: Objective did not converge. You might want to increase the number of iterations. Duality gap: 0.017473472736803684, tolerance: 0.00786627035370375\n",
      "  check_random_state(self.random_state), random)\n",
      "/Users/pierre-antoine/Applications/anaconda3/lib/python3.7/site-packages/sklearn/linear_model/_coordinate_descent.py:1953: ConvergenceWarning: Objective did not converge. You might want to increase the number of iterations. Duality gap: 0.016033386073389028, tolerance: 0.00786627035370375\n",
      "  check_random_state(self.random_state), random)\n",
      "/Users/pierre-antoine/Applications/anaconda3/lib/python3.7/site-packages/sklearn/linear_model/_coordinate_descent.py:1953: ConvergenceWarning: Objective did not converge. You might want to increase the number of iterations. Duality gap: 0.014530207734388633, tolerance: 0.00786627035370375\n",
      "  check_random_state(self.random_state), random)\n",
      "/Users/pierre-antoine/Applications/anaconda3/lib/python3.7/site-packages/sklearn/linear_model/_coordinate_descent.py:1953: ConvergenceWarning: Objective did not converge. You might want to increase the number of iterations. Duality gap: 0.04547918938822313, tolerance: 0.018662063450908258\n",
      "  check_random_state(self.random_state), random)\n",
      "/Users/pierre-antoine/Applications/anaconda3/lib/python3.7/site-packages/sklearn/linear_model/_coordinate_descent.py:1953: ConvergenceWarning: Objective did not converge. You might want to increase the number of iterations. Duality gap: 0.037618203064581274, tolerance: 0.018662063450908258\n",
      "  check_random_state(self.random_state), random)\n",
      "/Users/pierre-antoine/Applications/anaconda3/lib/python3.7/site-packages/sklearn/linear_model/_coordinate_descent.py:1953: ConvergenceWarning: Objective did not converge. You might want to increase the number of iterations. Duality gap: 0.0456009615378581, tolerance: 0.00786627035370375\n",
      "  check_random_state(self.random_state), random)\n",
      "/Users/pierre-antoine/Applications/anaconda3/lib/python3.7/site-packages/sklearn/linear_model/_coordinate_descent.py:1953: ConvergenceWarning: Objective did not converge. You might want to increase the number of iterations. Duality gap: 0.021439536120596035, tolerance: 0.00786627035370375\n",
      "  check_random_state(self.random_state), random)\n",
      "/Users/pierre-antoine/Applications/anaconda3/lib/python3.7/site-packages/sklearn/linear_model/_coordinate_descent.py:1953: ConvergenceWarning: Objective did not converge. You might want to increase the number of iterations. Duality gap: 0.021095919223241184, tolerance: 0.00786627035370375\n",
      "  check_random_state(self.random_state), random)\n",
      "/Users/pierre-antoine/Applications/anaconda3/lib/python3.7/site-packages/sklearn/linear_model/_coordinate_descent.py:1953: ConvergenceWarning: Objective did not converge. You might want to increase the number of iterations. Duality gap: 0.021180294770190688, tolerance: 0.00786627035370375\n",
      "  check_random_state(self.random_state), random)\n",
      "/Users/pierre-antoine/Applications/anaconda3/lib/python3.7/site-packages/sklearn/linear_model/_coordinate_descent.py:1953: ConvergenceWarning: Objective did not converge. You might want to increase the number of iterations. Duality gap: 0.021279014505397185, tolerance: 0.00786627035370375\n",
      "  check_random_state(self.random_state), random)\n",
      "/Users/pierre-antoine/Applications/anaconda3/lib/python3.7/site-packages/sklearn/linear_model/_coordinate_descent.py:1953: ConvergenceWarning: Objective did not converge. You might want to increase the number of iterations. Duality gap: 0.03601074756771839, tolerance: 0.018662063450908258\n",
      "  check_random_state(self.random_state), random)\n",
      "/Users/pierre-antoine/Applications/anaconda3/lib/python3.7/site-packages/sklearn/linear_model/_coordinate_descent.py:1953: ConvergenceWarning: Objective did not converge. You might want to increase the number of iterations. Duality gap: 0.02980868832406513, tolerance: 0.018662063450908258\n",
      "  check_random_state(self.random_state), random)\n",
      "/Users/pierre-antoine/Applications/anaconda3/lib/python3.7/site-packages/sklearn/linear_model/_coordinate_descent.py:1953: ConvergenceWarning: Objective did not converge. You might want to increase the number of iterations. Duality gap: 0.019967498850758714, tolerance: 0.018662063450908258\n",
      "  check_random_state(self.random_state), random)\n",
      "/Users/pierre-antoine/Applications/anaconda3/lib/python3.7/site-packages/sklearn/linear_model/_coordinate_descent.py:1953: ConvergenceWarning: Objective did not converge. You might want to increase the number of iterations. Duality gap: 0.04695497449566859, tolerance: 0.00786627035370375\n",
      "  check_random_state(self.random_state), random)\n",
      "/Users/pierre-antoine/Applications/anaconda3/lib/python3.7/site-packages/sklearn/linear_model/_coordinate_descent.py:1953: ConvergenceWarning: Objective did not converge. You might want to increase the number of iterations. Duality gap: 0.029475293511634356, tolerance: 0.018662063450908258\n",
      "  check_random_state(self.random_state), random)\n",
      "/Users/pierre-antoine/Applications/anaconda3/lib/python3.7/site-packages/sklearn/linear_model/_coordinate_descent.py:1953: ConvergenceWarning: Objective did not converge. You might want to increase the number of iterations. Duality gap: 0.03684761549846957, tolerance: 0.018662063450908258\n",
      "  check_random_state(self.random_state), random)\n",
      "/Users/pierre-antoine/Applications/anaconda3/lib/python3.7/site-packages/sklearn/linear_model/_coordinate_descent.py:1953: ConvergenceWarning: Objective did not converge. You might want to increase the number of iterations. Duality gap: 0.027364208088033654, tolerance: 0.018662063450908258\n",
      "  check_random_state(self.random_state), random)\n",
      "/Users/pierre-antoine/Applications/anaconda3/lib/python3.7/site-packages/sklearn/linear_model/_coordinate_descent.py:1953: ConvergenceWarning: Objective did not converge. You might want to increase the number of iterations. Duality gap: 0.021212149320153067, tolerance: 0.018662063450908258\n",
      "  check_random_state(self.random_state), random)\n",
      "/Users/pierre-antoine/Applications/anaconda3/lib/python3.7/site-packages/sklearn/linear_model/_coordinate_descent.py:1953: ConvergenceWarning: Objective did not converge. You might want to increase the number of iterations. Duality gap: 0.019825955472545155, tolerance: 0.018662063450908258\n",
      "  check_random_state(self.random_state), random)\n",
      "/Users/pierre-antoine/Applications/anaconda3/lib/python3.7/site-packages/sklearn/linear_model/_coordinate_descent.py:1953: ConvergenceWarning: Objective did not converge. You might want to increase the number of iterations. Duality gap: 0.03722813231882088, tolerance: 0.018662063450908258\n",
      "  check_random_state(self.random_state), random)\n",
      "/Users/pierre-antoine/Applications/anaconda3/lib/python3.7/site-packages/sklearn/linear_model/_coordinate_descent.py:1953: ConvergenceWarning: Objective did not converge. You might want to increase the number of iterations. Duality gap: 0.036481644755606564, tolerance: 0.018662063450908258\n",
      "  check_random_state(self.random_state), random)\n",
      "/Users/pierre-antoine/Applications/anaconda3/lib/python3.7/site-packages/sklearn/linear_model/_coordinate_descent.py:1953: ConvergenceWarning: Objective did not converge. You might want to increase the number of iterations. Duality gap: 0.029294437861450095, tolerance: 0.018662063450908258\n",
      "  check_random_state(self.random_state), random)\n",
      "/Users/pierre-antoine/Applications/anaconda3/lib/python3.7/site-packages/sklearn/linear_model/_coordinate_descent.py:1953: ConvergenceWarning: Objective did not converge. You might want to increase the number of iterations. Duality gap: 0.023866846299176774, tolerance: 0.018662063450908258\n",
      "  check_random_state(self.random_state), random)\n"
     ]
    },
    {
     "name": "stdout",
     "output_type": "stream",
     "text": [
      "Fitting MTL estimator with alpha = 0.002\n",
      "Fitting MTL estimator with alpha = 0.003\n",
      "Fitting MTL estimator with alpha = 0.004\n",
      "Fitting MTL estimator with alpha = 0.005\n",
      "Fitting MTL estimator with alpha = 0.006\n",
      "Fitting MTL estimator with alpha = 0.007\n",
      "Fitting MTL estimator with alpha = 0.008\n",
      "Fitting MTL estimator with alpha = 0.009000000000000001\n",
      "\n",
      "\n",
      "Best criterion: 5.98144309870174\n",
      "Best alpha: 1\n"
     ]
    }
   ],
   "source": [
    "regressor.fit(X, Y)"
   ]
  },
  {
   "cell_type": "markdown",
   "id": "wound-dollar",
   "metadata": {},
   "source": [
    "Now let's plot the weight matrix of the best estimator that we have against the original weight matrix."
   ]
  },
  {
   "cell_type": "code",
   "execution_count": 13,
   "id": "sized-fellow",
   "metadata": {},
   "outputs": [
    {
     "data": {
      "image/png": "[encoded data removed]",
      "text/plain": [
       "<Figure size 864x432 with 2 Axes>"
      ]
     },
     "metadata": {
      "needs_background": "light"
     },
     "output_type": "display_data"
    }
   ],
   "source": [
    "W_hat = regressor.weights\n",
    "\n",
    "fig, axes = plt.subplots(1, 2, figsize=(12, 6))\n",
    "\n",
    "axes[0].set_title('Original signal', fontweight=\"bold\", fontsize=15)\n",
    "axes[0].imshow(W, cmap=\"binary\")\n",
    "\n",
    "axes[1].set_title('Recovered signal', fontweight=\"bold\", fontsize=15)\n",
    "axes[1].imshow(W_hat, cmap=\"binary\")\n",
    "\n",
    "fig.suptitle('A cross-validated attempt...', fontweight=\"bold\", fontsize=18);"
   ]
  },
  {
   "cell_type": "code",
   "execution_count": null,
   "id": "divine-stress",
   "metadata": {},
   "outputs": [],
   "source": []
  },
  {
   "cell_type": "code",
   "execution_count": null,
   "id": "duplicate-reunion",
   "metadata": {},
   "outputs": [],
   "source": []
  },
  {
   "cell_type": "code",
   "execution_count": null,
   "id": "similar-history",
   "metadata": {},
   "outputs": [],
   "source": []
  },
  {
   "cell_type": "markdown",
   "id": "caroline-saying",
   "metadata": {},
   "source": [
    "- Plot support recovery / nombre d'itérations\n",
    "- Plot support recovery / alpha\n",
    "- Use cross-validation to select the right hyperparameter. Enhance MultiTaskLassoCV?"
   ]
  },
  {
   "cell_type": "code",
   "execution_count": null,
   "id": "israeli-israeli",
   "metadata": {},
   "outputs": [],
   "source": []
  }
 ],
 "metadata": {
  "kernelspec": {
   "display_name": "Python 3.7.4 64-bit ('base': conda)",
   "language": "python",
   "name": "python37464bitbasecondaa034928ca54b4b7887763f9fc65af3c7"
  },
  "language_info": {
   "codemirror_mode": {
    "name": "ipython",
    "version": 3
   },
   "file_extension": ".py",
   "mimetype": "text/x-python",
   "name": "python",
   "nbconvert_exporter": "python",
   "pygments_lexer": "ipython3",
   "version": "3.7.4"
  }
 },
 "nbformat": 4,
 "nbformat_minor": 5
}
