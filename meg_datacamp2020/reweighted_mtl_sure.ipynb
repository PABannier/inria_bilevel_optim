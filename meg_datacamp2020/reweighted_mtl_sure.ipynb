{
 "cells": [
  {
   "cell_type": "code",
   "execution_count": null,
   "id": "a68582d6",
   "metadata": {},
   "outputs": [],
   "source": [
    "import os\n",
    "from tqdm.notebook import tqdm\n",
    "\n",
    "import numpy as np\n",
    "from scipy import sparse\n",
    "import matplotlib.pyplot as plt\n",
    "import pandas as pd\n",
    "\n",
    "from sklearn.base import BaseEstimator, ClassifierMixin\n",
    "from sklearn.base import TransformerMixin\n",
    "from sklearn.base import RegressorMixin\n",
    "\n",
    "from sklearn.metrics import jaccard_score\n",
    "\n",
    "from mtl.sure import SURE\n",
    "from mtl.mtl import ReweightedMultiTaskLasso\n",
    "from mtl.utils_datasets import compute_alpha_max\n",
    "\n",
    "from problem import get_train_data, get_test_data\n",
    "from problem import EMDScore"
   ]
  },
  {
   "cell_type": "markdown",
   "id": "1be29059",
   "metadata": {},
   "source": [
    "## Defining regressor"
   ]
  },
  {
   "cell_type": "code",
   "execution_count": null,
   "id": "541c8d7c",
   "metadata": {},
   "outputs": [],
   "source": [
    "def _get_coef(est):\n",
    "    \"\"\"Get coefficients from a fitted regression estimator.\"\"\"\n",
    "    if hasattr(est, 'steps'):\n",
    "        return est.steps[-1][1].coef_\n",
    "    return est.coef_"
   ]
  },
  {
   "cell_type": "code",
   "execution_count": null,
   "id": "01e1c77d",
   "metadata": {},
   "outputs": [],
   "source": [
    "class SparseRegressor(BaseEstimator, ClassifierMixin, TransformerMixin):\n",
    "    '''Provided regression estimator (ie model) solves inverse problem\n",
    "        using data X and lead field L. The estimated coefficients (est_coef\n",
    "        sometimes called z) are then used to predict which parcels are active.\n",
    "\n",
    "        X must be of a specific structure with a column name 'subject' and\n",
    "        'L_path' which gives the path to lead_field files for each subject\n",
    "    '''\n",
    "    def __init__(self, model, n_jobs=1):\n",
    "        self.model = model\n",
    "        self.n_jobs = n_jobs\n",
    "        self.parcel_indices = {}\n",
    "        self.Ls = {}\n",
    "\n",
    "    def fit(self, X, y):\n",
    "        return self\n",
    "\n",
    "    def predict(self, X):\n",
    "        return (self.decision_function(X) > 0).astype(int)\n",
    "\n",
    "    def _run_model(self, model, L, X):\n",
    "        norms = np.linalg.norm(L, axis=0)\n",
    "        L = L / norms[None, :]\n",
    "\n",
    "        est_coefs = np.empty((X.shape[0], L.shape[1]))\n",
    "        for idx, idx_used in enumerate(X.index.values):\n",
    "            x = X.iloc[idx].values\n",
    "            model.fit(L, x)\n",
    "            est_coef = np.abs(_get_coef(model))\n",
    "            est_coef /= norms #??????\n",
    "            est_coefs[idx] = est_coef\n",
    "\n",
    "        return est_coefs.T\n",
    "\n",
    "    def decision_function(self, X):\n",
    "        X = X.reset_index(drop=True)\n",
    "\n",
    "        for subject_id in np.unique(X['subject']):\n",
    "            if subject_id not in self.Ls:\n",
    "                # load corresponding L if it's not already in\n",
    "                L_used = X[X['subject'] == subject_id]['L_path'].iloc[0]\n",
    "                lead_field = np.load(L_used)\n",
    "                self.parcel_indices[subject_id] = lead_field['parcel_indices']\n",
    "\n",
    "                # scale L to avoid tiny numbers\n",
    "                self.Ls[subject_id] = 1e8 * lead_field['lead_field']\n",
    "                assert (self.parcel_indices[subject_id].shape[0] ==\n",
    "                        self.Ls[subject_id].shape[1])\n",
    "\n",
    "        n_parcels = np.max([np.max(s) for s in self.parcel_indices.values()])\n",
    "        betas = np.empty((len(X), n_parcels))\n",
    "        for subj_idx in np.unique(X['subject']):\n",
    "            L_used = self.Ls[subj_idx]\n",
    "\n",
    "            X_used = X[X['subject'] == subj_idx]\n",
    "            X_used = X_used.drop(['subject', 'L_path'], axis=1)\n",
    "\n",
    "            est_coef = self._run_model(self.model, L_used, X_used)\n",
    "\n",
    "            beta = pd.DataFrame(\n",
    "                np.abs(est_coef)\n",
    "            ).groupby(self.parcel_indices[subj_idx]).max().transpose()\n",
    "            betas[X['subject'] == subj_idx] = np.array(beta)\n",
    "        return betas"
   ]
  },
  {
   "cell_type": "code",
   "execution_count": null,
   "id": "1ca8a4c2",
   "metadata": {},
   "outputs": [],
   "source": [
    "class CustomSparseEstimator(BaseEstimator, RegressorMixin):\n",
    "    \"\"\"Regression estimator which uses Reweighted Multi-Task Lasso \n",
    "    estimator and automatically selects the optimal alpha based on \n",
    "    SURE minimization.\n",
    "    \"\"\"\n",
    "    def __init__(self):\n",
    "        self.best_sure_ = np.inf\n",
    "        self.best_alpha_ = 0\n",
    "        self.estimator_ = None\n",
    "    \n",
    "    def fit(self, L, x):\n",
    "        alpha_max = compute_alpha_max(L, x)\n",
    "        alphas = np.geomspace(alpha_max, alpha_max / 50, 50)\n",
    "        \n",
    "        # Sigma = 1 confirmé???????\n",
    "\n",
    "        for alpha in tqdm(alphas, total=len(alphas)):\n",
    "            estimator = SURE(ReweightedMultiTaskLasso, 1, random_state=0)\n",
    "            sure_val_ = estimator.get_val(L, x, alpha)\n",
    "            if sure_val_ < self.best_sure_:\n",
    "                self.best_sure_ = sure_val_\n",
    "                self.best_alpha_ = alpha\n",
    "\n",
    "        print(\"best sure\", self.best_sure_)\n",
    "        print(\"best alpha\", self.best_alpha_)\n",
    "\n",
    "        # Refitting\n",
    "        estimator = ReweightedMultiTaskLasso(best_alpha_)\n",
    "        estimator.fit(L, x)\n",
    "        \n",
    "        self.coef_ = estimator.coef_"
   ]
  },
  {
   "cell_type": "code",
   "execution_count": null,
   "id": "2e9d5470",
   "metadata": {},
   "outputs": [],
   "source": [
    "def get_estimator():\n",
    "    custom_model = CustomSparseEstimator()\n",
    "    adaptive_lasso = SparseRegressor(custom_model)\n",
    "    return adaptive_lasso"
   ]
  },
  {
   "cell_type": "markdown",
   "id": "9a186795",
   "metadata": {},
   "source": [
    "## Fitting"
   ]
  },
  {
   "cell_type": "code",
   "execution_count": null,
   "id": "96e108ca",
   "metadata": {},
   "outputs": [],
   "source": [
    "# Loading data\n",
    "X_train, y_train = get_train_data()\n",
    "X_test, y_test = get_test_data()"
   ]
  },
  {
   "cell_type": "code",
   "execution_count": null,
   "id": "c0ef2751",
   "metadata": {},
   "outputs": [],
   "source": [
    "estimator = ReweightedMTLEstimator()"
   ]
  },
  {
   "cell_type": "code",
   "execution_count": null,
   "id": "5eb1a9a6",
   "metadata": {},
   "outputs": [],
   "source": [
    "estimator.fit(X_train, y_train)"
   ]
  },
  {
   "cell_type": "code",
   "execution_count": null,
   "id": "1d001df8",
   "metadata": {},
   "outputs": [],
   "source": [
    "y_pred = sparse_estimator.predict(X_test)"
   ]
  },
  {
   "cell_type": "markdown",
   "id": "7a7fbe8b",
   "metadata": {},
   "source": [
    "## Assess performance"
   ]
  },
  {
   "cell_type": "code",
   "execution_count": null,
   "id": "02ab347e",
   "metadata": {},
   "outputs": [],
   "source": [
    "def get_metrics(y_true, y_pred):\n",
    "    jac = jaccard_score(y_true, y_pred, average=\"samples\")\n",
    "    print(\"Jaccard score:\", jac)\n",
    "    \n",
    "    emdscore = EMDScore()\n",
    "    emd_mtl = emdscore(y_true, y_pred)\n",
    "    print(\"EMD score:\", emdscore)"
   ]
  },
  {
   "cell_type": "code",
   "execution_count": null,
   "id": "dfa34245",
   "metadata": {},
   "outputs": [],
   "source": []
  },
  {
   "cell_type": "code",
   "execution_count": null,
   "id": "2f942396",
   "metadata": {},
   "outputs": [],
   "source": []
  },
  {
   "cell_type": "code",
   "execution_count": null,
   "id": "d231dc5d",
   "metadata": {},
   "outputs": [],
   "source": []
  }
 ],
 "metadata": {
  "kernelspec": {
   "display_name": "Python 3",
   "language": "python",
   "name": "python3"
  },
  "language_info": {
   "codemirror_mode": {
    "name": "ipython",
    "version": 3
   },
   "file_extension": ".py",
   "mimetype": "text/x-python",
   "name": "python",
   "nbconvert_exporter": "python",
   "pygments_lexer": "ipython3",
   "version": "3.9.4"
  }
 },
 "nbformat": 4,
 "nbformat_minor": 5
}
