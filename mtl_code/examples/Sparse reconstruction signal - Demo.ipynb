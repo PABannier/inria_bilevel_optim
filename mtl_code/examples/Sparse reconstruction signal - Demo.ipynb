{
 "cells": [
  {
   "cell_type": "code",
   "execution_count": 8,
   "id": "smooth-married",
   "metadata": {
    "scrolled": true
   },
   "outputs": [],
   "source": [
    "!pip install mtl -q"
   ]
  },
  {
   "cell_type": "code",
   "execution_count": 9,
   "id": "casual-royalty",
   "metadata": {},
   "outputs": [],
   "source": [
    "from mtl.simulated_data import simulate_data\n",
    "from mtl.mtl import ReweightedMTL\n",
    "from mtl.cross_validation import MultiTaskLassoCV\n",
    "\n",
    "import numpy as np\n",
    "from numpy.linalg import norm\n",
    "\n",
    "from sklearn.utils import check_random_state\n",
    "\n",
    "import matplotlib.pyplot as plt\n",
    "import seaborn as sns"
   ]
  },
  {
   "cell_type": "markdown",
   "id": "finished-leader",
   "metadata": {},
   "source": [
    "## Generate and visualize data\n",
    "\n",
    "First, let's generate some data by filling some rows of the coefficient matrix by a sine wave to which some noise is added (row-sparse matrix). Note that we normalize the matrix by the Frobenius norm."
   ]
  },
  {
   "cell_type": "code",
   "execution_count": 10,
   "id": "adopted-channels",
   "metadata": {},
   "outputs": [],
   "source": [
    "X, Y, coef = simulate_data(\n",
    "    n_samples=10, n_features=50, n_tasks=5, nnz=5, random_state=42\n",
    ")"
   ]
  },
  {
   "cell_type": "code",
   "execution_count": 11,
   "id": "professional-parcel",
   "metadata": {},
   "outputs": [
    {
     "data": {
      "image/png": "[encoded data removed]",
      "text/plain": [
       "<Figure size 720x504 with 1 Axes>"
      ]
     },
     "metadata": {
      "needs_background": "light"
     },
     "output_type": "display_data"
    }
   ],
   "source": [
    "fig = plt.figure(figsize=(10, 7))\n",
    "plt.title('A row-sparse coefficient matrix', fontweight=\"bold\", fontsize=15)\n",
    "plt.imshow(coef.T, cmap=\"binary\");"
   ]
  },
  {
   "cell_type": "markdown",
   "id": "static-transaction",
   "metadata": {},
   "source": [
    "We notice that we have created 5 non-empty rows. We want our model to recover the number of non-zero rows as well as their location. But first, let's compute the max value that $\\alpha$ can take. Beyond this threshold, all the coefficients in the coefficient matrix are zero."
   ]
  },
  {
   "cell_type": "code",
   "execution_count": 12,
   "id": "southeast-nelson",
   "metadata": {},
   "outputs": [],
   "source": [
    "def compute_alpha_max(X, Y):\n",
    "    \"\"\" \n",
    "    http://proceedings.mlr.press/v84/massias18a/massias18a.pdf\n",
    "    \"\"\"\n",
    "    B = X.T @ Y\n",
    "    b = np.linalg.norm(B, axis=1)\n",
    "    return np.max(b) / X.shape[0]"
   ]
  },
  {
   "cell_type": "code",
   "execution_count": 13,
   "id": "prime-biodiversity",
   "metadata": {},
   "outputs": [
    {
     "name": "stdout",
     "output_type": "stream",
     "text": [
      "Alpha max: 0.22719337438816992\n"
     ]
    }
   ],
   "source": [
    "alpha_max = compute_alpha_max(X, Y)\n",
    "print('Alpha max:', alpha_max)"
   ]
  },
  {
   "cell_type": "code",
   "execution_count": 14,
   "id": "brutal-assembly",
   "metadata": {},
   "outputs": [
    {
     "name": "stdout",
     "output_type": "stream",
     "text": [
      "Iteration 0: 0.0335\n",
      "Iteration 1: 0.0271\n",
      "Iteration 2: 0.0253\n",
      "Iteration 3: 0.0244\n",
      "Iteration 4: 0.0240\n"
     ]
    }
   ],
   "source": [
    "regressor = ReweightedMTL(alpha=0.01)\n",
    "regressor.fit(X, Y)"
   ]
  },
  {
   "cell_type": "code",
   "execution_count": 15,
   "id": "unlikely-baptist",
   "metadata": {},
   "outputs": [
    {
     "data": {
      "image/png": "[encoded data removed]",
      "text/plain": [
       "<Figure size 720x288 with 2 Axes>"
      ]
     },
     "metadata": {
      "needs_background": "light"
     },
     "output_type": "display_data"
    }
   ],
   "source": [
    "coef_hat = regressor.weights\n",
    "\n",
    "fig, axes = plt.subplots(2, 1, figsize=(10, 4))\n",
    "\n",
    "axes[0].set_title('Original signal', fontweight=\"bold\", fontsize=15)\n",
    "axes[0].imshow(coef.T, cmap=\"binary\")\n",
    "\n",
    "axes[1].set_title('Recovered signal', fontweight=\"bold\", fontsize=15)\n",
    "axes[1].imshow(coef_hat.T, cmap=\"binary\")\n",
    "\n",
    "fig.suptitle('A first attempt for Reweighted Multi-Task LASSO minimization', fontweight=\"bold\", fontsize=18);"
   ]
  },
  {
   "cell_type": "markdown",
   "id": "comfortable-colon",
   "metadata": {},
   "source": [
    "We notice that the recovered signal is not sparse enough. We need to adjust $\\alpha$ to have the correct level or sparsity. In order to select the right value for $\\alpha$, we will cross-validate the hyperparameter $\\alpha$ using MultiTaskLassoCV."
   ]
  },
  {
   "cell_type": "markdown",
   "id": "floating-ecology",
   "metadata": {},
   "source": [
    "## Cross-validation\n",
    "\n",
    "The cross-validation is done over 5 folds and for $\\alpha \\in [0.0001,0.04]$."
   ]
  },
  {
   "cell_type": "code",
   "execution_count": 16,
   "id": "frozen-angola",
   "metadata": {},
   "outputs": [],
   "source": [
    "alphas = np.geomspace(1e-3, 4e-2, num=20)\n",
    "regressor = MultiTaskLassoCV(alphas, n_folds=5)"
   ]
  },
  {
   "cell_type": "code",
   "execution_count": 17,
   "id": "owned-vegetable",
   "metadata": {},
   "outputs": [
    {
     "name": "stdout",
     "output_type": "stream",
     "text": [
      "Fitting MTL estimator with alpha = 0.001\n",
      "Criterion reduced from inf to 0.02127 for alpha = 0.001\n",
      "Fitting MTL estimator with alpha = 0.0012142802934538574\n",
      "Criterion reduced from 0.02127 to 0.02125 for alpha = 0.0012142802934538574\n",
      "Fitting MTL estimator with alpha = 0.0014744766310703877\n",
      "Fitting MTL estimator with alpha = 0.0017904279162670054\n",
      "Fitting MTL estimator with alpha = 0.00217408133557268\n",
      "Criterion reduced from 0.02125 to 0.02083 for alpha = 0.00217408133557268\n",
      "Fitting MTL estimator with alpha = 0.0026399441221517483\n",
      "Fitting MTL estimator with alpha = 0.0032056321233482144\n",
      "Fitting MTL estimator with alpha = 0.0038925359154443817\n",
      "Fitting MTL estimator with alpha = 0.004726629653685488\n",
      "Fitting MTL estimator with alpha = 0.005739453242924919\n",
      "Fitting MTL estimator with alpha = 0.0069693049680835725\n",
      "Fitting MTL estimator with alpha = 0.008462689681813946\n",
      "Criterion reduced from 0.02083 to 0.02005 for alpha = 0.008462689681813946\n",
      "Fitting MTL estimator with alpha = 0.010276077310241976\n",
      "Criterion reduced from 0.02005 to 0.01832 for alpha = 0.010276077310241976\n",
      "Fitting MTL estimator with alpha = 0.01247803817183516\n",
      "Criterion reduced from 0.01832 to 0.01796 for alpha = 0.01247803817183516\n",
      "Fitting MTL estimator with alpha = 0.01515183585302444\n",
      "Criterion reduced from 0.01796 to 0.01697 for alpha = 0.01515183585302444\n",
      "Fitting MTL estimator with alpha = 0.018398575685975204\n",
      "Criterion reduced from 0.01697 to 0.01652 for alpha = 0.018398575685975204\n",
      "Fitting MTL estimator with alpha = 0.02234102788309899\n",
      "Criterion reduced from 0.01652 to 0.01591 for alpha = 0.02234102788309899\n",
      "Fitting MTL estimator with alpha = 0.027128269893950265\n",
      "Criterion reduced from 0.01591 to 0.01546 for alpha = 0.027128269893950265\n",
      "Fitting MTL estimator with alpha = 0.03294132352772139\n",
      "Fitting MTL estimator with alpha = 0.04000000000000001\n",
      "\n",
      "\n",
      "Best criterion: 0.015457524153985065\n",
      "Best alpha: 0.027128269893950265\n"
     ]
    }
   ],
   "source": [
    "regressor.fit(X, Y)"
   ]
  },
  {
   "cell_type": "code",
   "execution_count": 18,
   "id": "infinite-condition",
   "metadata": {},
   "outputs": [
    {
     "data": {
      "image/png": "[encoded data removed]",
      "text/plain": [
       "<Figure size 720x288 with 2 Axes>"
      ]
     },
     "metadata": {
      "needs_background": "light"
     },
     "output_type": "display_data"
    }
   ],
   "source": [
    "coef_hat = regressor.weights\n",
    "\n",
    "fig, axes = plt.subplots(2, 1, figsize=(10, 4))\n",
    "\n",
    "axes[0].set_title('Original signal', fontweight=\"bold\", fontsize=15)\n",
    "axes[0].imshow(coef.T, cmap=\"binary\")\n",
    "\n",
    "axes[1].set_title('Recovered signal', fontweight=\"bold\", fontsize=15)\n",
    "axes[1].imshow(coef_hat.T, cmap=\"binary\")\n",
    "\n",
    "fig.suptitle('A cross-validated attempt...', fontweight=\"bold\", fontsize=18);"
   ]
  },
  {
   "cell_type": "markdown",
   "id": "combined-egypt",
   "metadata": {},
   "source": [
    "We note that 3 out of 5 non zero features are retrieved. The signal is noisy, thus we need to generate more samples to enhance our reconstruction capability.\n",
    "<br/>\n",
    "Now let's try LASSO on a bigger example and try to find a relation between the support recovery and the number of iterations or $\\alpha$."
   ]
  },
  {
   "cell_type": "markdown",
   "id": "appointed-examination",
   "metadata": {},
   "source": [
    "## A larger example. "
   ]
  },
  {
   "cell_type": "code",
   "execution_count": 19,
   "id": "announced-vienna",
   "metadata": {},
   "outputs": [],
   "source": [
    "X, Y, W = simulate_data(\n",
    "    n_samples=50, n_features=250, n_tasks=25, nnz=25, random_state=2020\n",
    ")"
   ]
  },
  {
   "cell_type": "code",
   "execution_count": 20,
   "id": "previous-business",
   "metadata": {},
   "outputs": [
    {
     "name": "stdout",
     "output_type": "stream",
     "text": [
      "Alpha max: 0.0449436432001203\n"
     ]
    }
   ],
   "source": [
    "alpha_max = compute_alpha_max(X, Y)\n",
    "print('Alpha max:', alpha_max)"
   ]
  },
  {
   "cell_type": "code",
   "execution_count": 21,
   "id": "vital-steal",
   "metadata": {},
   "outputs": [],
   "source": [
    "alphas = np.geomspace(1e-4, 2e-3, num=15)\n",
    "regressor = MultiTaskLassoCV(alphas, n_folds=3)"
   ]
  },
  {
   "cell_type": "code",
   "execution_count": 22,
   "id": "sophisticated-arthur",
   "metadata": {},
   "outputs": [
    {
     "name": "stdout",
     "output_type": "stream",
     "text": [
      "Fitting MTL estimator with alpha = 0.0001\n"
     ]
    },
    {
     "name": "stderr",
     "output_type": "stream",
     "text": [
      "/Users/pierre-antoine/Applications/anaconda3/lib/python3.7/site-packages/sklearn/linear_model/_coordinate_descent.py:1953: ConvergenceWarning: Objective did not converge. You might want to increase the number of iterations. Duality gap: 6.727304139181148e-05, tolerance: 6.643487305882683e-05\n",
      "  check_random_state(self.random_state), random)\n"
     ]
    },
    {
     "name": "stdout",
     "output_type": "stream",
     "text": [
      "Criterion reduced from inf to 0.00021 for alpha = 0.0001\n",
      "Fitting MTL estimator with alpha = 0.00012385989684455544\n",
      "Criterion reduced from 0.00021 to 0.00020 for alpha = 0.00012385989684455544\n",
      "Fitting MTL estimator with alpha = 0.00015341274046343914\n",
      "Criterion reduced from 0.00020 to 0.00020 for alpha = 0.00015341274046343914\n",
      "Fitting MTL estimator with alpha = 0.0001900168620844211\n",
      "Criterion reduced from 0.00020 to 0.00018 for alpha = 0.0001900168620844211\n",
      "Fitting MTL estimator with alpha = 0.00023535468936502514\n",
      "Criterion reduced from 0.00018 to 0.00017 for alpha = 0.00023535468936502514\n",
      "Fitting MTL estimator with alpha = 0.00029151007546634404\n",
      "Criterion reduced from 0.00017 to 0.00016 for alpha = 0.00029151007546634404\n",
      "Fitting MTL estimator with alpha = 0.00036106407876409943\n",
      "Criterion reduced from 0.00016 to 0.00016 for alpha = 0.00036106407876409943\n",
      "Fitting MTL estimator with alpha = 0.00044721359549995795\n",
      "Criterion reduced from 0.00016 to 0.00016 for alpha = 0.00044721359549995795\n",
      "Fitting MTL estimator with alpha = 0.0005539182980610754\n",
      "Criterion reduced from 0.00016 to 0.00015 for alpha = 0.0005539182980610754\n",
      "Fitting MTL estimator with alpha = 0.0006860826325815651\n",
      "Fitting MTL estimator with alpha = 0.0008497812409839359\n",
      "Fitting MTL estimator with alpha = 0.0010525381684870871\n",
      "Fitting MTL estimator with alpha = 0.001303672689737678\n",
      "Fitting MTL estimator with alpha = 0.0016147276486997294\n",
      "Fitting MTL estimator with alpha = 0.0020000000000000005\n",
      "\n",
      "\n",
      "Best criterion: 0.00015279722413672503\n",
      "Best alpha: 0.0005539182980610754\n"
     ]
    }
   ],
   "source": [
    "regressor.fit(X, Y)\n",
    "best_alpha = regressor.best_alpha_"
   ]
  },
  {
   "cell_type": "code",
   "execution_count": 23,
   "id": "hybrid-round",
   "metadata": {},
   "outputs": [
    {
     "data": {
      "image/png": "[encoded data removed]",
      "text/plain": [
       "<Figure size 576x432 with 2 Axes>"
      ]
     },
     "metadata": {
      "needs_background": "light"
     },
     "output_type": "display_data"
    }
   ],
   "source": [
    "W_hat = regressor.weights\n",
    "\n",
    "fig, axarr = plt.subplots(2, 1, figsize=(8, 6), constrained_layout=True)\n",
    "axarr[0].spy(W.T, aspect=\"auto\")\n",
    "axarr[0].xaxis.tick_bottom()\n",
    "axarr[0].set_title(\"Original signal\", fontsize=14)\n",
    "axarr[0].set_ylabel(\"Tasks\", fontsize=12)\n",
    "axarr[1].spy(W_hat.T, aspect=\"auto\")\n",
    "axarr[1].xaxis.tick_bottom()\n",
    "axarr[1].set_title(\"Reconstructed signal\", fontsize=14)\n",
    "plt.suptitle(\"Sparsity patterns\", fontweight=\"bold\", fontsize=20)\n",
    "plt.ylabel(\"Tasks\", fontsize=12)\n",
    "plt.xlabel(\"Features\", fontsize=12)\n",
    "plt.show(block=False)"
   ]
  },
  {
   "cell_type": "markdown",
   "id": "shaped-charlotte",
   "metadata": {},
   "source": [
    "It looks quite good. The rows are at the right location and it seems that the expected and the effective number of non-zero rows are equal. Let's check that..."
   ]
  },
  {
   "cell_type": "code",
   "execution_count": 24,
   "id": "initial-anaheim",
   "metadata": {},
   "outputs": [
    {
     "name": "stdout",
     "output_type": "stream",
     "text": [
      "Number of non-zero rows in original: 25\n",
      "Number of non-zero rows in reconstructed: 25\n"
     ]
    }
   ],
   "source": [
    "nnz_original = np.count_nonzero(np.count_nonzero(W, axis=1))\n",
    "nnz_reconstructed = np.count_nonzero(np.count_nonzero(W_hat, axis=1))\n",
    "\n",
    "print('Number of non-zero rows in original:', nnz_original)\n",
    "print('Number of non-zero rows in reconstructed:', nnz_reconstructed)"
   ]
  },
  {
   "cell_type": "markdown",
   "id": "specific-absorption",
   "metadata": {},
   "source": [
    "Indeed, it is the same!\n",
    "<br/>\n",
    "Now let's try to investigate the relationship between the support recovery and the number of iterations. "
   ]
  },
  {
   "cell_type": "markdown",
   "id": "filled-association",
   "metadata": {},
   "source": [
    "## Support recovery and iterations"
   ]
  },
  {
   "cell_type": "markdown",
   "id": "plastic-option",
   "metadata": {},
   "source": [
    "Let's take the same example as previously. We know that the true support is 25, we want to know how fast the reweighted LASSO converges to this support."
   ]
  },
  {
   "cell_type": "code",
   "execution_count": 25,
   "id": "advised-jersey",
   "metadata": {},
   "outputs": [],
   "source": [
    "supports = []"
   ]
  },
  {
   "cell_type": "code",
   "execution_count": 26,
   "id": "round-deviation",
   "metadata": {},
   "outputs": [],
   "source": [
    "for n_iterations in range(1, 11):\n",
    "    estimator = ReweightedMTL(alpha=best_alpha, verbose=False)\n",
    "    estimator.fit(X, Y, n_iterations=n_iterations)\n",
    "    \n",
    "    W_hat = estimator.weights\n",
    "    nnz_reconstructed = np.count_nonzero(np.count_nonzero(W_hat, axis=1))\n",
    "    \n",
    "    supports.append(nnz_reconstructed)"
   ]
  },
  {
   "cell_type": "code",
   "execution_count": 27,
   "id": "false-wright",
   "metadata": {},
   "outputs": [
    {
     "data": {
      "image/png": "[encoded data removed]",
      "text/plain": [
       "<Figure size 576x432 with 1 Axes>"
      ]
     },
     "metadata": {
      "needs_background": "light"
     },
     "output_type": "display_data"
    }
   ],
   "source": [
    "fig = plt.figure(figsize=(8, 6))\n",
    "\n",
    "plt.plot(supports)\n",
    "plt.title('Support recovery over iterations', fontweight=\"bold\", fontsize=20)\n",
    "plt.xlabel('Iteration', fontsize=12)\n",
    "plt.ylabel('Sparsity level', fontsize=12);"
   ]
  },
  {
   "cell_type": "markdown",
   "id": "administrative-trial",
   "metadata": {},
   "source": [
    "We see that the model converges very fast in the first iteration and zeroes out the noise quite easily. It takes the whole 10 iterations to come up with the exact number of non-zero coefficients."
   ]
  },
  {
   "cell_type": "markdown",
   "id": "parental-nurse",
   "metadata": {},
   "source": [
    "## Support recovery and regularizing constant"
   ]
  },
  {
   "cell_type": "markdown",
   "id": "english-liberty",
   "metadata": {},
   "source": [
    "We will now investigate the relationship between $\\alpha$ and the sparsity level. Obviously, we expect that the larger $\\alpha$, the larger the sparsity level. Let's verify this intuition."
   ]
  },
  {
   "cell_type": "code",
   "execution_count": 28,
   "id": "consecutive-cache",
   "metadata": {},
   "outputs": [],
   "source": [
    "supports = []\n",
    "alphas = np.geomspace(1e-4, 2e-2, num=15)"
   ]
  },
  {
   "cell_type": "code",
   "execution_count": 29,
   "id": "competent-tumor",
   "metadata": {},
   "outputs": [],
   "source": [
    "for alpha in alphas:\n",
    "    estimator = ReweightedMTL(alpha=alpha, verbose=False)\n",
    "    estimator.fit(X, Y)\n",
    "    \n",
    "    W_hat = estimator.weights\n",
    "    nnz_reconstructed = np.count_nonzero(np.count_nonzero(W_hat, axis=1))\n",
    "    \n",
    "    supports.append(nnz_reconstructed)"
   ]
  },
  {
   "cell_type": "code",
   "execution_count": 30,
   "id": "prerequisite-exception",
   "metadata": {},
   "outputs": [
    {
     "data": {
      "image/png": "[encoded data removed]",
      "text/plain": [
       "<Figure size 576x432 with 1 Axes>"
      ]
     },
     "metadata": {
      "needs_background": "light"
     },
     "output_type": "display_data"
    }
   ],
   "source": [
    "fig = plt.figure(figsize=(8, 6))\n",
    "\n",
    "xlabels = [str(round(x, 4)) for x in alphas]\n",
    "\n",
    "plt.plot(supports)\n",
    "plt.title('Support recovery against penalizing constant', fontweight=\"bold\", fontsize=20)\n",
    "plt.xlabel('alpha', fontsize=12)\n",
    "plt.xticks(np.arange(len(alphas)), xlabels)\n",
    "plt.xticks(rotation=45)\n",
    "plt.ylabel('Sparsity level', fontsize=12);"
   ]
  },
  {
   "cell_type": "markdown",
   "id": "sensitive-extent",
   "metadata": {},
   "source": [
    "Indeed, we find that the larger alpha, the smaller the support and that at around 0.02, the support is empty."
   ]
  }
 ],
 "metadata": {
  "kernelspec": {
   "display_name": "Python 3.7.4 64-bit ('base': conda)",
   "language": "python",
   "name": "python37464bitbasecondaa034928ca54b4b7887763f9fc65af3c7"
  },
  "language_info": {
   "codemirror_mode": {
    "name": "ipython",
    "version": 3
   },
   "file_extension": ".py",
   "mimetype": "text/x-python",
   "name": "python",
   "nbconvert_exporter": "python",
   "pygments_lexer": "ipython3",
   "version": "3.7.4"
  }
 },
 "nbformat": 4,
 "nbformat_minor": 5
}
